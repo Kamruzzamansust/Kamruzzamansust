{
  "nbformat": 4,
  "nbformat_minor": 0,
  "metadata": {
    "colab": {
      "provenance": [],
      "toc_visible": true,
      "authorship_tag": "ABX9TyM67+/61pHE97lGdsSLax6p",
      "include_colab_link": true
    },
    "kernelspec": {
      "name": "python3",
      "display_name": "Python 3"
    },
    "language_info": {
      "name": "python"
    }
  },
  "cells": [
    {
      "cell_type": "markdown",
      "metadata": {
        "id": "view-in-github",
        "colab_type": "text"
      },
      "source": [
        "<a href=\"https://colab.research.google.com/github/Kamruzzamansust/Kamruzzamansust/blob/main/if_else_satement_.ipynb\" target=\"_parent\"><img src=\"https://colab.research.google.com/assets/colab-badge.svg\" alt=\"Open In Colab\"/></a>"
      ]
    },
    {
      "cell_type": "markdown",
      "source": [
        "#EXCERCISE"
      ],
      "metadata": {
        "id": "L2optfjZcKl2"
      }
    },
    {
      "cell_type": "code",
      "execution_count": 10,
      "metadata": {
        "colab": {
          "base_uri": "https://localhost:8080/"
        },
        "id": "Cx2C8JqWb89I",
        "outputId": "83ae30db-b833-46be-9db9-5c3bfcc1b70e"
      },
      "outputs": [
        {
          "output_type": "stream",
          "name": "stdout",
          "text": [
            "You just earned 5 points!\n",
            "\n",
            "\n"
          ]
        }
      ],
      "source": [
        "'''Alien Colors #1: Imagine an alien was just shot down in a game. Create a\n",
        "variable called alien_color and assign it a value of 'green', 'yellow', or 'red'.\n",
        "•\t Write an if statement to test whether the alien’s color is green. If it is, print\n",
        "a message that the player just earned 5 points.\n",
        "•\t Write one version of this program that passes the if test and another that\n",
        "fails. (The version that fails will have no output.)'''\n",
        "alien_color = 'green'\n",
        "\n",
        "if alien_color == 'green':\n",
        "    print(\"You just earned 5 points!\")\n",
        "\n",
        "\n"
      ]
    },
    {
      "cell_type": "code",
      "source": [
        " #no output    \n",
        "alien_color = 'red'\n",
        "\n",
        "if alien_color == 'green':\n",
        "    print(\"You just earned 5 points!\")"
      ],
      "metadata": {
        "id": "Bm7MeuxGcHs-"
      },
      "execution_count": 11,
      "outputs": []
    },
    {
      "cell_type": "code",
      "source": [
        "'''Choose a color for an alien as you did in Exercise 5-3, and write an if-else chain.\n",
        "\n",
        "If the alien’s color is green, print a statement that the player just earned 5 points for shooting the alien.\n",
        "If the alien’s color isn’t green, print a statement that the player just earned 10 points.\n",
        "Write one version of this program that runs the if block and another that runs the else block.'''\n",
        "\n",
        "alien_color = 'green'\n",
        "\n",
        "if alien_color == 'green':\n",
        "    print(\"You just earned 5 points!\")\n",
        "else:\n",
        "    print(\"You just earned 10 points!\")\n",
        "\n",
        "\n",
        "\n",
        "\n"
      ],
      "metadata": {
        "colab": {
          "base_uri": "https://localhost:8080/"
        },
        "id": "f3rMF2HDh4oR",
        "outputId": "f6c105f7-b083-4606-a8c8-85faa0a3b715"
      },
      "execution_count": 12,
      "outputs": [
        {
          "output_type": "stream",
          "name": "stdout",
          "text": [
            "You just earned 5 points!\n"
          ]
        }
      ]
    },
    {
      "cell_type": "code",
      "source": [
        "alien_color = 'yellow'\n",
        "\n",
        "if alien_color == 'green':\n",
        "    print(\"You just earned 5 points!\")\n",
        "else:\n",
        "    print(\"You just earned 10 points!\")"
      ],
      "metadata": {
        "colab": {
          "base_uri": "https://localhost:8080/"
        },
        "id": "mNXK6ZvXh4uO",
        "outputId": "fd9b91d8-393d-49a6-94b7-ad965ff8bcf4"
      },
      "execution_count": 14,
      "outputs": [
        {
          "output_type": "stream",
          "name": "stdout",
          "text": [
            "You just earned 10 points!\n"
          ]
        }
      ]
    },
    {
      "cell_type": "code",
      "source": [
        "''''Turn your if-else chain from Exercise 5-4 into an if-elif-else cahin.\n",
        "\n",
        "If the alien is green, print a message that the player earned 5 points.\n",
        "If the alien is yellow, print a message that the player earned 10 points.\n",
        "If the alien is red, print a message that the player earned 15 points.\n",
        "Write three versions of this program, making sure each message is printed for the appropriate color alien.'''\n",
        "\n",
        "\n",
        "alien_color = 'red'\n",
        "\n",
        "if alien_color == 'green':\n",
        "    print(\"You just earned 5 points!\")\n",
        "elif alien_color == 'yellow':\n",
        "    print(\"You just earned 10 points!\")\n",
        "else:\n",
        "    print(\"You just earned 15 points!\")\n",
        "\n",
        "\n",
        "\n",
        "\n",
        "\n",
        "\n"
      ],
      "metadata": {
        "colab": {
          "base_uri": "https://localhost:8080/"
        },
        "id": "VidKeEMrh4w_",
        "outputId": "660f8976-1635-4c60-b617-f626db9c8dcb"
      },
      "execution_count": 15,
      "outputs": [
        {
          "output_type": "stream",
          "name": "stdout",
          "text": [
            "You just earned 15 points!\n"
          ]
        }
      ]
    },
    {
      "cell_type": "code",
      "source": [
        "'''Write an if-elif-else cahin that determines a person’s stage of life. Set a value for the variable age, and then:\n",
        "\n",
        "If the person is less than 2 years old, print a message that the person is a baby.\n",
        "If the person is at least 2 years old but less than 4, print a message that the person is a toddler.\n",
        "If the person is at least 4 years old but less than 13, print a message that the person is a toddler.\n",
        "If the person is at least 13 years old but less than 20, print a message that the person is a toddler.\n",
        "If the person is at least 20 years old but less than 65, print a message that the person is a toddler.\n",
        "If the person is age 65 or older, print a message that the person is an elder.'''\n",
        "age = 17\n",
        "\n",
        "if age < 2:\n",
        "    print(\"You're a baby!\")\n",
        "elif age < 4:\n",
        "    print(\"You're a toddler!\")\n",
        "elif age < 13:\n",
        "    print(\"You're a kid!\")\n",
        "elif age < 20:\n",
        "    print(\"You're a teenager!\")\n",
        "elif age < 65:\n",
        "    print(\"You're an adult!\")\n",
        "else:\n",
        "    print(\"You're an elder!\")\n",
        "\n",
        "\n",
        "\n",
        "\n",
        "\n",
        "\n",
        "\n"
      ],
      "metadata": {
        "colab": {
          "base_uri": "https://localhost:8080/"
        },
        "id": "gcMPZRLCh4za",
        "outputId": "40447feb-71fc-4ff9-e7f0-8c2b458024b6"
      },
      "execution_count": 16,
      "outputs": [
        {
          "output_type": "stream",
          "name": "stdout",
          "text": [
            "You're a teenager!\n"
          ]
        }
      ]
    },
    {
      "cell_type": "code",
      "source": [
        "'''Make a list of your favorite fruits, and then write a \n",
        "series of independent if statements that check for certain \n",
        "fruits in your list.\n",
        "\n",
        "Make a list of your three favorite fruits and \n",
        "call it favorite_fruits.\n",
        "Write five if statements. Each should \n",
        "check whether a certain kind of fruit is in \n",
        "your list. If the fruit is in your list, the if \n",
        "block should print a statement, such as You really like bananas!'''\n",
        "\n",
        "favorite_fruits = ['blueberries', 'salmonberries', 'peaches']\n",
        "if 'bananas' in favorite_fruits:\n",
        "    print(\"You really like bananas!\")\n",
        "if 'apples' in favorite_fruits:\n",
        "    print(\"You really like apples!\")\n",
        "if 'blueberries' in favorite_fruits:\n",
        "    print(\"You really like blueberries!\")\n",
        "if 'kiwis' in favorite_fruits:\n",
        "    print(\"You really like kiwis!\")\n",
        "if 'peaches' in favorite_fruits:\n",
        "    print(\"You really like peaches!\")\n",
        "\n",
        "\n",
        "\n",
        "\n"
      ],
      "metadata": {
        "colab": {
          "base_uri": "https://localhost:8080/"
        },
        "id": "5bvVcX2hh434",
        "outputId": "25deddb5-d31b-489a-fa84-99fd244178c0"
      },
      "execution_count": 18,
      "outputs": [
        {
          "output_type": "stream",
          "name": "stdout",
          "text": [
            "You really like blueberries!\n",
            "You really like peaches!\n"
          ]
        }
      ]
    },
    {
      "cell_type": "markdown",
      "source": [
        "#Using if Statements with Lists"
      ],
      "metadata": {
        "id": "V9mfzsWwnWOf"
      }
    },
    {
      "cell_type": "code",
      "source": [
        "requested_toppings = [\"mushrooms\",\"green peppers\",\"extra cheese\"]\n",
        "for requested_topping in requested_toppings:\n",
        "  if requested_topping == 'green peppers':\n",
        "    print('Sorry we are stock out')\n",
        "  else:\n",
        "\n",
        "   print(\"Adding\" + requested_topping + \".\")\n",
        "print('\\nfinished making your pizza!')\n",
        "\n",
        "\n",
        "\n"
      ],
      "metadata": {
        "colab": {
          "base_uri": "https://localhost:8080/"
        },
        "id": "EAPp-OYFh46g",
        "outputId": "648e1a50-e4f3-4c52-9051-c8a69f8e1dbd"
      },
      "execution_count": 22,
      "outputs": [
        {
          "output_type": "stream",
          "name": "stdout",
          "text": [
            "Addingmushrooms.\n",
            "Sorry we are stock out\n",
            "Addingextra cheese.\n",
            "\n",
            "finished making your pizza!\n"
          ]
        }
      ]
    },
    {
      "cell_type": "code",
      "source": [
        "#Checking That a List Is Not Empty\n",
        "requested_toppings = []\n",
        "if requested_toppings:\n",
        " for requested_topping in requested_toppings:\n",
        " print(\"Adding \" + requested_topping + \".\")\n",
        " print(\"\\nFinished making your pizza!\")\n",
        "else:\n",
        " print(\"Are you sure you want a plain pizza?\")\n"
      ],
      "metadata": {
        "id": "86YePYR8o2GK"
      },
      "execution_count": null,
      "outputs": []
    },
    {
      "cell_type": "code",
      "source": [
        "#Using Multiple Lists\n",
        "available_toppings = ['mushrooms', 'olives', 'green peppers','pepperoni', 'pineapple', 'extra cheese']\n",
        "requested_toppings = ['mushrooms', 'french fries', 'extra cheese']\n",
        "for requested_topping in requested_toppings:\n",
        " if requested_topping in available_toppings:\n",
        "  print(\"Adding \" + requested_topping + \".\")\n",
        " else:\n",
        "  print(\"Sorry, we don't have \" + requested_topping + \".\")\n",
        "\n",
        "print(\"\\nFinished making your pizza!\")"
      ],
      "metadata": {
        "colab": {
          "base_uri": "https://localhost:8080/"
        },
        "id": "LHCWY7IKo2M4",
        "outputId": "d68a6b8f-18d3-4aac-b378-26ffa09b76ab"
      },
      "execution_count": 23,
      "outputs": [
        {
          "output_type": "stream",
          "name": "stdout",
          "text": [
            "Adding mushrooms.\n",
            "Sorry, we don't have french fries.\n",
            "Adding extra cheese.\n",
            "\n",
            "Finished making your pizza!\n"
          ]
        }
      ]
    },
    {
      "cell_type": "code",
      "source": [
        "hello = [\"Amit\",\"Arif\",\"Alif\",\"Abdullah\",\"Aman\"]\n",
        "for h in hello:\n",
        "  print('\\n')\n",
        "  if h == \"Arif\":\n",
        "    print(f'WELCOME {h} ; hey admin how r u?')\n",
        "  else:\n",
        "    print(f'hello {h}')  \n",
        "  \n",
        "  "
      ],
      "metadata": {
        "colab": {
          "base_uri": "https://localhost:8080/"
        },
        "id": "ASQu2l4Xo2Po",
        "outputId": "4cd3981d-9b91-4db8-bc68-6c61d07260c7"
      },
      "execution_count": 33,
      "outputs": [
        {
          "output_type": "stream",
          "name": "stdout",
          "text": [
            "\n",
            "\n",
            "hello Amit\n",
            "\n",
            "\n",
            "WELCOME Arif ; hey admin how r u?\n",
            "\n",
            "\n",
            "hello Alif\n",
            "\n",
            "\n",
            "hello Abdullah\n",
            "\n",
            "\n",
            "hello Aman\n"
          ]
        }
      ]
    },
    {
      "cell_type": "code",
      "source": [
        "hello = [\"Amit\",\"Arif\",\"Alif\",\"Abdullah\",\"Aman\"]\n",
        "for h in hello:\n",
        "  if h == \"Arif\":\n",
        "    print(f'WELCOME{h}')\n",
        "  else:\n",
        "    print(f'hello {h}')  \n",
        "  "
      ],
      "metadata": {
        "id": "qCTdGygEo2Sg"
      },
      "execution_count": null,
      "outputs": []
    },
    {
      "cell_type": "code",
      "source": [
        "''': Add an if test to hello_admin.py to make sure the list of users is\n",
        "not empty.\n",
        "•\t If the list is empty, print the message We need to find some users!\n",
        "•\t Remove all of the usernames from your list, and make sure the correct\n",
        "message is printed.'''\n",
        "usernames = []\n",
        "if usernames:\n",
        "  for username in usernames:\n",
        "    if username =='Arif':\n",
        "      print('hello admin')\n",
        "    else:\n",
        "       print(f\"Hello {username}, thank you for loggin in again!\")\n",
        "else:\n",
        "  print('we need to find some users') \n"
      ],
      "metadata": {
        "colab": {
          "base_uri": "https://localhost:8080/"
        },
        "id": "9si_jGQAo2U6",
        "outputId": "7b5d8e1b-26dd-498f-d6f5-9a1601f5d40e"
      },
      "execution_count": 35,
      "outputs": [
        {
          "output_type": "stream",
          "name": "stdout",
          "text": [
            "we need to find some users\n"
          ]
        }
      ]
    },
    {
      "cell_type": "code",
      "source": [
        "'''Do the following to create a program that simulates how websites ensure that everyone has a unique username.\n",
        "\n",
        "Make a list of five or more usernames called current_users. Make another list of five usernames called new_users. Make sure one or two of the new usernames are also in the current_users list.\n",
        "Loop through the new_users list to see if each new username has already been used. If it has, print a message that the person will need to enter a new username. If a username has not been used, print a message saying that the username is available.\n",
        "Make sure your comparison is case insensitive. If 'John' has been used, 'JOHN' should not be accepted'''\n",
        "\n",
        "current_users = ['eric', 'willie', 'admin', 'erin', 'Ever']\n",
        "new_users = ['sarah', 'Willie', 'PHIL', 'ever', 'Iona']\n",
        "current_users_lower = [user.lower() for user in current_users]\n",
        "for new_user in new_users: \n",
        " if new_user.lower() in current_users_lower:\n",
        "        print(f\"Sorry {new_user}, that name is taken.\")\n",
        " else:\n",
        "        print(f\"Great, {new_user} is still available.\")"
      ],
      "metadata": {
        "colab": {
          "base_uri": "https://localhost:8080/"
        },
        "id": "Az_JRJ_h9eSU",
        "outputId": "3c8c82ea-ed58-4492-e74e-c0f928e5b789"
      },
      "execution_count": 37,
      "outputs": [
        {
          "output_type": "stream",
          "name": "stdout",
          "text": [
            "Great, sarah is still available.\n",
            "Sorry Willie, that name is taken.\n",
            "Great, PHIL is still available.\n",
            "Sorry ever, that name is taken.\n",
            "Great, Iona is still available.\n"
          ]
        }
      ]
    },
    {
      "cell_type": "code",
      "source": [
        "'''Ordinal numbers indicate their position in a\n",
        " list, such as 1st or 2nd. Most ordinal numbers \n",
        " end in th, except 1, 2, and 3.\n",
        "\n",
        "Store the numbers 1 through 9 in a list.\n",
        "Loop through the list.\n",
        "Use an if-elif-else chain inside the loop to \n",
        "print the proper ordinal ending for each number.\n",
        " Your output should read \"1st 2nd 3rd 4th 5th 6th 7th 8th 9th\",\n",
        "  and each result should be on a separate line.'''\n",
        "\n",
        "numbers = list(range(1,10))\n",
        "for number in numbers:\n",
        "    if number == 1:\n",
        "        print(\"1st\")\n",
        "    elif number == 2:\n",
        "        print(\"2nd\")\n",
        "    elif number == 3:\n",
        "        print(\"3rd\")\n",
        "    else:\n",
        "        print(f\"{number}th\")  "
      ],
      "metadata": {
        "colab": {
          "base_uri": "https://localhost:8080/"
        },
        "id": "oYUsp8kK9eYm",
        "outputId": "2135a76d-15bc-446c-dad0-4674a3b08ac1"
      },
      "execution_count": 39,
      "outputs": [
        {
          "output_type": "stream",
          "name": "stdout",
          "text": [
            "1st\n",
            "2nd\n",
            "3rd\n",
            "4th\n",
            "5th\n",
            "6th\n",
            "7th\n",
            "8th\n",
            "9th\n"
          ]
        }
      ]
    },
    {
      "cell_type": "code",
      "source": [],
      "metadata": {
        "id": "tNNHV0pq9elO"
      },
      "execution_count": null,
      "outputs": []
    },
    {
      "cell_type": "markdown",
      "source": [],
      "metadata": {
        "id": "QR7q3udMcI6k"
      }
    }
  ]
}