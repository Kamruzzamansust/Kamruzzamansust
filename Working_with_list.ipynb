{
  "nbformat": 4,
  "nbformat_minor": 0,
  "metadata": {
    "colab": {
      "provenance": [],
      "authorship_tag": "ABX9TyOhdbMuIbshiLtd8C3gYK0L",
      "include_colab_link": true
    },
    "kernelspec": {
      "name": "python3",
      "display_name": "Python 3"
    },
    "language_info": {
      "name": "python"
    }
  },
  "cells": [
    {
      "cell_type": "markdown",
      "metadata": {
        "id": "view-in-github",
        "colab_type": "text"
      },
      "source": [
        "<a href=\"https://colab.research.google.com/github/Kamruzzamansust/Kamruzzamansust/blob/main/Working_with_list.ipynb\" target=\"_parent\"><img src=\"https://colab.research.google.com/assets/colab-badge.svg\" alt=\"Open In Colab\"/></a>"
      ]
    },
    {
      "cell_type": "code",
      "execution_count": null,
      "metadata": {
        "id": "99_lQZ-2T3qb"
      },
      "outputs": [],
      "source": []
    },
    {
      "cell_type": "markdown",
      "source": [
        "#Looping Through an Entire List"
      ],
      "metadata": {
        "id": "NFmHnyDHUlnx"
      }
    },
    {
      "cell_type": "code",
      "source": [
        "player = ['messi','ronaldo','neymar']\n",
        "for p in player:\n",
        "  print(p)"
      ],
      "metadata": {
        "colab": {
          "base_uri": "https://localhost:8080/"
        },
        "id": "aBEi2dBmUkpB",
        "outputId": "4a2fa00d-aff6-472b-bf05-241f8478dbd0"
      },
      "execution_count": null,
      "outputs": [
        {
          "output_type": "stream",
          "name": "stdout",
          "text": [
            "messi\n",
            "ronaldo\n",
            "neymar\n"
          ]
        }
      ]
    },
    {
      "cell_type": "code",
      "source": [
        "player = ['messi','ronaldo','neymar']\n",
        "for p in player:\n",
        "  print(f'{p} is a great player!!')\n",
        "    "
      ],
      "metadata": {
        "colab": {
          "base_uri": "https://localhost:8080/"
        },
        "id": "jIvgkPM2Ukxp",
        "outputId": "361903bc-f01b-4d01-d8ce-0da853e10808"
      },
      "execution_count": null,
      "outputs": [
        {
          "output_type": "stream",
          "name": "stdout",
          "text": [
            "messi is a great player!!\n",
            "ronaldo is a great player!!\n",
            "neymar is a great player!!\n"
          ]
        }
      ]
    },
    {
      "cell_type": "markdown",
      "source": [
        "#EXCERCISE"
      ],
      "metadata": {
        "id": "IcSF6EfdVz_B"
      }
    },
    {
      "cell_type": "code",
      "source": [
        "'''Think of at least three kinds of your favorite pizza.\n",
        "Store these pizza names in a list, and\n",
        "then use a for loop to print the name of each pizza.'''\n",
        "\n",
        "fvrt_pizza = ['irani','pizza slice','mexican pizza bun']\n",
        "for pizza in fvrt_pizza:\n",
        "  print(pizza)\n",
        "print(\"\\n\")\n",
        "\n",
        "# Print a sentence about each pizza.\n",
        "\n",
        "for pizza in fvrt_pizza:\n",
        "  print(f'i love {pizza} pizza!!')\n",
        "print(\"\\nsorry but i really love chicken mushroom pie\")  \n",
        "\n"
      ],
      "metadata": {
        "colab": {
          "base_uri": "https://localhost:8080/"
        },
        "id": "fyeJ8IrDVh0H",
        "outputId": "b8b2df71-95aa-4cb7-9f16-426f65e2134b"
      },
      "execution_count": null,
      "outputs": [
        {
          "output_type": "stream",
          "name": "stdout",
          "text": [
            "irani\n",
            "pizza slice\n",
            "mexican pizza bun\n",
            "\n",
            "\n",
            "i love irani pizza!!\n",
            "i love pizza slice pizza!!\n",
            "i love mexican pizza bun pizza!!\n",
            "\n",
            "sorry but i really love chicken mushroom pie\n"
          ]
        }
      ]
    },
    {
      "cell_type": "code",
      "source": [
        "#Use a for loop to print the numbers from 1 to 20, inclusive.\n",
        "for i in range(1,21):\n",
        "  print(i)"
      ],
      "metadata": {
        "colab": {
          "base_uri": "https://localhost:8080/"
        },
        "id": "7lkob0VUWZ68",
        "outputId": "1b4cc9a5-c5c9-40bd-baac-019d0f1563f0"
      },
      "execution_count": null,
      "outputs": [
        {
          "output_type": "stream",
          "name": "stdout",
          "text": [
            "1\n",
            "2\n",
            "3\n",
            "4\n",
            "5\n",
            "6\n",
            "7\n",
            "8\n",
            "9\n",
            "10\n",
            "11\n",
            "12\n",
            "13\n",
            "14\n",
            "15\n",
            "16\n",
            "17\n",
            "18\n",
            "19\n",
            "20\n"
          ]
        }
      ]
    },
    {
      "cell_type": "markdown",
      "source": [
        "#Making Numerical Lists\n"
      ],
      "metadata": {
        "id": "kLdn3HxXXoVI"
      }
    },
    {
      "cell_type": "code",
      "source": [
        "#Using range() to Make a List of Numbers\n",
        "numb =  list(range(0,7))\n",
        "print(numb)"
      ],
      "metadata": {
        "colab": {
          "base_uri": "https://localhost:8080/"
        },
        "id": "2CtEmEUDXbjF",
        "outputId": "7c61df2a-abf7-4328-d76f-45d79b2d8f3a"
      },
      "execution_count": null,
      "outputs": [
        {
          "output_type": "stream",
          "name": "stdout",
          "text": [
            "[0, 1, 2, 3, 4, 5, 6]\n"
          ]
        }
      ]
    },
    {
      "cell_type": "code",
      "source": [
        "'''We can also use the range() function to tell Python \n",
        "to skip numbers\n",
        "in a given range. \n",
        "For example, here’s how we would list the even numbers\n",
        "between 1 and 10:'''\n",
        "even = list(range(2,11,2))\n",
        "\n",
        "print(even)\n"
      ],
      "metadata": {
        "colab": {
          "base_uri": "https://localhost:8080/"
        },
        "id": "Hs6UATHyX3TB",
        "outputId": "9eadcb8e-ff99-4b0d-ade0-10a501c70d03"
      },
      "execution_count": null,
      "outputs": [
        {
          "output_type": "stream",
          "name": "stdout",
          "text": [
            "[2, 4, 6, 8, 10]\n"
          ]
        }
      ]
    },
    {
      "cell_type": "code",
      "source": [
        "squares = []\n",
        "\n",
        "for i in range(1,11):\n",
        "  square = i**2\n",
        "  squares.append(square)\n",
        "  print(squares)\n"
      ],
      "metadata": {
        "colab": {
          "base_uri": "https://localhost:8080/"
        },
        "id": "rjXDVcw7Vh7V",
        "outputId": "e12c61e9-ff48-475f-ed54-a002549f79fb"
      },
      "execution_count": null,
      "outputs": [
        {
          "output_type": "stream",
          "name": "stdout",
          "text": [
            "[1]\n",
            "[1, 4]\n",
            "[1, 4, 9]\n",
            "[1, 4, 9, 16]\n",
            "[1, 4, 9, 16, 25]\n",
            "[1, 4, 9, 16, 25, 36]\n",
            "[1, 4, 9, 16, 25, 36, 49]\n",
            "[1, 4, 9, 16, 25, 36, 49, 64]\n",
            "[1, 4, 9, 16, 25, 36, 49, 64, 81]\n",
            "[1, 4, 9, 16, 25, 36, 49, 64, 81, 100]\n"
          ]
        }
      ]
    },
    {
      "cell_type": "code",
      "source": [
        "squares = []\n",
        "\n",
        "for i in range(1,11):\n",
        "  square = i**2\n",
        "  squares.append(square)\n",
        "\n",
        "print(squares)"
      ],
      "metadata": {
        "colab": {
          "base_uri": "https://localhost:8080/"
        },
        "id": "183uCP4eVh9w",
        "outputId": "1100e6a2-b326-407e-8047-75c52a26b040"
      },
      "execution_count": null,
      "outputs": [
        {
          "output_type": "stream",
          "name": "stdout",
          "text": [
            "[1, 4, 9, 16, 25, 36, 49, 64, 81, 100]\n"
          ]
        }
      ]
    },
    {
      "cell_type": "markdown",
      "source": [
        "#List Comprehensions"
      ],
      "metadata": {
        "id": "mIlWR4qAZ5gK"
      }
    },
    {
      "cell_type": "code",
      "source": [
        "'''To use this syntax, begin with a descriptive name \n",
        "for the list, such as\n",
        "squares. Next, open a set of\n",
        " square brackets and define the expression for\n",
        "the values you want to store in the new list.'''\n",
        "\n",
        "\n",
        "squares = [value**2 for value in range(1,11)]\n",
        "print(squares)"
      ],
      "metadata": {
        "colab": {
          "base_uri": "https://localhost:8080/"
        },
        "id": "2AVUm1aXViAL",
        "outputId": "e6ec283a-c617-4450-8565-24449eb7a801"
      },
      "execution_count": null,
      "outputs": [
        {
          "output_type": "stream",
          "name": "stdout",
          "text": [
            "[1, 4, 9, 16, 25, 36, 49, 64, 81, 100]\n"
          ]
        }
      ]
    },
    {
      "cell_type": "markdown",
      "source": [
        "EXCERCISE\n"
      ],
      "metadata": {
        "id": "Vf537K6l7dP6"
      }
    },
    {
      "cell_type": "code",
      "source": [
        "#4-3. Counting to Twenty: Use a for \n",
        "#loop to print the numbers from 1 to 20,\n",
        "#inclusive\n",
        "for i in range(1,21):\n",
        "  \n",
        "  print(i)\n",
        "  \n",
        "\n",
        "\n"
      ],
      "metadata": {
        "id": "oWyQDkzqViCe",
        "colab": {
          "base_uri": "https://localhost:8080/"
        },
        "outputId": "eabc1592-bdb5-41ad-b7eb-2b990571bf49"
      },
      "execution_count": 13,
      "outputs": [
        {
          "output_type": "stream",
          "name": "stdout",
          "text": [
            "1\n",
            "2\n",
            "3\n",
            "4\n",
            "5\n",
            "6\n",
            "7\n",
            "8\n",
            "9\n",
            "10\n",
            "11\n",
            "12\n",
            "13\n",
            "14\n",
            "15\n",
            "16\n",
            "17\n",
            "18\n",
            "19\n",
            "20\n"
          ]
        }
      ]
    },
    {
      "cell_type": "code",
      "source": [
        "'''4-4. One Million: Make a list of the numbers from one to one million, and then\n",
        "use a for loop to print the numbers. (If the output is taking too long, stop it by\n",
        "pressing ctrl-C or by closing the output window.)'''\n",
        "for i in range(1, 21):\n",
        "    print(i)"
      ],
      "metadata": {
        "id": "R60Yw58hViHO"
      },
      "execution_count": null,
      "outputs": []
    },
    {
      "cell_type": "code",
      "source": [
        "#4-6. Odd Numbers: Use the third argument of the range() function to make a list\n",
        "#of the odd numbers from 1 to 20. Use a for loop to print each number.\n",
        "count =0\n",
        "for i in range(1,21,2):\n",
        "  count+=1\n",
        "  print(i)\n",
        "print('------------')  \n",
        "print(count)  \n",
        "\n",
        "\n",
        "\n"
      ],
      "metadata": {
        "id": "7HPAWfjwViJk",
        "colab": {
          "base_uri": "https://localhost:8080/"
        },
        "outputId": "74962223-f43f-4e66-a8fb-5f6fce9c6de7"
      },
      "execution_count": 22,
      "outputs": [
        {
          "output_type": "stream",
          "name": "stdout",
          "text": [
            "1\n",
            "3\n",
            "5\n",
            "7\n",
            "9\n",
            "11\n",
            "13\n",
            "15\n",
            "17\n",
            "19\n",
            "------------\n",
            "10\n"
          ]
        }
      ]
    },
    {
      "cell_type": "code",
      "source": [
        "#4-7. Threes: Make a list of the multiples of 3 from 3 to 30. Use a for loop to\n",
        "#print the numbers in your list.\n",
        "\n",
        "for i in range(3,31):\n",
        "  mult = i*3\n",
        "  print(mult)\n",
        "print(''''\n",
        "\n",
        "''''')\n",
        "for i in range(3,31,3):\n",
        "  print(i)\n",
        "\n"
      ],
      "metadata": {
        "colab": {
          "base_uri": "https://localhost:8080/"
        },
        "id": "-g3DeAMP9pzW",
        "outputId": "7e48c3f0-5af8-43d7-fef2-b761b2345aa9"
      },
      "execution_count": 24,
      "outputs": [
        {
          "output_type": "stream",
          "name": "stdout",
          "text": [
            "9\n",
            "12\n",
            "15\n",
            "18\n",
            "21\n",
            "24\n",
            "27\n",
            "30\n",
            "33\n",
            "36\n",
            "39\n",
            "42\n",
            "45\n",
            "48\n",
            "51\n",
            "54\n",
            "57\n",
            "60\n",
            "63\n",
            "66\n",
            "69\n",
            "72\n",
            "75\n",
            "78\n",
            "81\n",
            "84\n",
            "87\n",
            "90\n",
            "'\n",
            "\n",
            "\n",
            "3\n",
            "6\n",
            "9\n",
            "12\n",
            "15\n",
            "18\n",
            "21\n",
            "24\n",
            "27\n",
            "30\n"
          ]
        }
      ]
    },
    {
      "cell_type": "code",
      "source": [
        "'''4-8. Cubes: A number raised to the third power is called a cube. For example,\n",
        "the cube of 2 is written as 2**3 in Python. Make a list of the first 10 cubes (that\n",
        "is, the cube of each integer from 1 through 10), and use a for loop to print out\n",
        "the value of each cube.'''\n",
        "\n",
        "\n",
        "for i in range(1,11):\n",
        "  cube = i**3\n",
        "  print(f'{i} cubed is {i**3}')"
      ],
      "metadata": {
        "id": "A_2mfZ8wViLz",
        "colab": {
          "base_uri": "https://localhost:8080/"
        },
        "outputId": "b9be715d-1b2c-4d97-869d-4fce62b3b359"
      },
      "execution_count": 25,
      "outputs": [
        {
          "output_type": "stream",
          "name": "stdout",
          "text": [
            "1 cubed is 1\n",
            "2 cubed is 8\n",
            "3 cubed is 27\n",
            "4 cubed is 64\n",
            "5 cubed is 125\n",
            "6 cubed is 216\n",
            "7 cubed is 343\n",
            "8 cubed is 512\n",
            "9 cubed is 729\n",
            "10 cubed is 1000\n"
          ]
        }
      ]
    },
    {
      "cell_type": "code",
      "source": [
        "#Use a list comprehension to generate a list of the\n",
        "#first 10 cubes.\n",
        "list = []\n",
        "for i in range(1,11):\n",
        "  cube = i**3\n",
        "  list.append(cube)\n",
        "print(list)  "
      ],
      "metadata": {
        "id": "RN3ieRKYViOW",
        "colab": {
          "base_uri": "https://localhost:8080/"
        },
        "outputId": "efd945b2-6e2b-419f-96a5-73b20e9d8ab1"
      },
      "execution_count": 29,
      "outputs": [
        {
          "output_type": "stream",
          "name": "stdout",
          "text": [
            "[1, 8, 27, 64, 125, 216, 343, 512, 729, 1000]\n"
          ]
        }
      ]
    },
    {
      "cell_type": "code",
      "source": [
        "#Use a list comprehension to generate a list of the first 10 cubes.\n",
        "cubes = [i**3 for i in range(1,11)]\n",
        "print(cubes)\n",
        "print('\\n')\n",
        "for cube in cubes:\n",
        "  print(cube)\n",
        "\n"
      ],
      "metadata": {
        "id": "Ia9OzypkViQo",
        "colab": {
          "base_uri": "https://localhost:8080/"
        },
        "outputId": "6bad59e4-ce25-4944-b524-5c66b2b6a8fe"
      },
      "execution_count": 35,
      "outputs": [
        {
          "output_type": "stream",
          "name": "stdout",
          "text": [
            "[1, 8, 27, 64, 125, 216, 343, 512, 729, 1000]\n",
            "\n",
            "\n",
            "1\n",
            "8\n",
            "27\n",
            "64\n",
            "125\n",
            "216\n",
            "343\n",
            "512\n",
            "729\n",
            "1000\n"
          ]
        }
      ]
    },
    {
      "cell_type": "markdown",
      "source": [
        "#Working with Part of a List"
      ],
      "metadata": {
        "id": "-AGilym-Be1h"
      }
    },
    {
      "cell_type": "code",
      "source": [
        "#Slicing a List\n",
        "players = ['charles', 'martina', 'michael', 'florence', 'eli']\n",
        "print(players[0:3])\n",
        "print(players[1:4])\n",
        "print(players[:4])\n",
        "print(players[2:])\n",
        "print(players[-3:])"
      ],
      "metadata": {
        "colab": {
          "base_uri": "https://localhost:8080/"
        },
        "id": "AivckbYVBeXR",
        "outputId": "bd3e108c-3d77-4068-d8e1-42d139beb0fd"
      },
      "execution_count": 43,
      "outputs": [
        {
          "output_type": "stream",
          "name": "stdout",
          "text": [
            "['charles', 'martina', 'michael']\n",
            "['martina', 'michael', 'florence']\n",
            "['charles', 'martina', 'michael', 'florence']\n",
            "['michael', 'florence', 'eli']\n",
            "['michael', 'florence', 'eli']\n"
          ]
        }
      ]
    },
    {
      "cell_type": "markdown",
      "source": [
        "#Looping Through a Slice"
      ],
      "metadata": {
        "id": "8niUlBcEDz-h"
      }
    },
    {
      "cell_type": "code",
      "source": [
        "friends = [\"alif\",\"amit\",\"opu\",\"orco\"]\n",
        "print('They are my friends list:')\n",
        "for f in friends:\n",
        "  print(f.title())\n"
      ],
      "metadata": {
        "colab": {
          "base_uri": "https://localhost:8080/"
        },
        "id": "P2bKai7-Dzi4",
        "outputId": "5432a97d-4627-417c-b043-670a3e5a56ed"
      },
      "execution_count": 53,
      "outputs": [
        {
          "output_type": "stream",
          "name": "stdout",
          "text": [
            "They are my friends list:\n",
            "Alif\n",
            "Amit\n",
            "Opu\n",
            "Orco\n"
          ]
        }
      ]
    },
    {
      "cell_type": "markdown",
      "source": [
        "#Copying a List\n"
      ],
      "metadata": {
        "id": "WCFbzQj1IA2S"
      }
    },
    {
      "cell_type": "code",
      "source": [
        "my_foods = ['pizza', 'falafel', 'carrot cake']\n",
        "friend_foods = my_foods[:]\n",
        "print(my_foods)\n",
        "print(friend_foods)\n"
      ],
      "metadata": {
        "colab": {
          "base_uri": "https://localhost:8080/"
        },
        "id": "O8kElqaGBcRr",
        "outputId": "c9b5229b-4242-4f6b-e08e-01a6353e71c0"
      },
      "execution_count": 56,
      "outputs": [
        {
          "output_type": "stream",
          "name": "stdout",
          "text": [
            "['pizza', 'falafel', 'carrot cake']\n",
            "['pizza', 'falafel', 'carrot cake']\n"
          ]
        }
      ]
    },
    {
      "cell_type": "code",
      "source": [
        "'''Using one of the programs you wrote in this chapter, add several\n",
        "lines to the end of the program that do the following:\n",
        "1.Print the message, The first three items in the list are:. Then use a slice to\n",
        "print the first three items from that program’s list.\n",
        "2.Print the message, Three items from the middle of the list are:. Use a slice\n",
        "to print three items from the middle of the list.\n",
        "3.Print the message, The last three items in the list are:. Use a slice to print\n",
        "the last three items in the list.'''\n",
        "\n",
        "foods=['pizza','burger','spaghetti','chips','sandwich','coke']\n",
        "print(\"The first three items in the list are:\")\n",
        "for food in foods[:3]:\n",
        "\tprint(food.title())\n",
        "print(\"\\n\")\n",
        "\n",
        "print(\"Three items from the middle of the list are:\")\n",
        "for food in foods[1:4]:\n",
        "\tprint(food.title())\n",
        "print(\"\\n\")\n",
        "\n",
        "print(\"The last three items in the list are:\")\n",
        "for food in foods[-3:]:\n",
        "  print(food.title())"
      ],
      "metadata": {
        "colab": {
          "base_uri": "https://localhost:8080/"
        },
        "id": "jg42XRU1IR9P",
        "outputId": "e902ffc1-6674-4176-9cb6-0d65293ff61d"
      },
      "execution_count": 59,
      "outputs": [
        {
          "output_type": "stream",
          "name": "stdout",
          "text": [
            "The first three items in the list are:\n",
            "Pizza\n",
            "Burger\n",
            "Spaghetti\n",
            "\n",
            "\n",
            "Three items from the middle of the list are:\n",
            "Burger\n",
            "Spaghetti\n",
            "Chips\n",
            "\n",
            "\n",
            "The last three items in the list are:\n",
            "Chips\n",
            "Sandwich\n",
            "Coke\n"
          ]
        }
      ]
    },
    {
      "cell_type": "code",
      "source": [],
      "metadata": {
        "id": "zSoiaxeoBcdj"
      },
      "execution_count": null,
      "outputs": []
    },
    {
      "cell_type": "code",
      "source": [],
      "metadata": {
        "id": "sRDxP9a0BcgM"
      },
      "execution_count": null,
      "outputs": []
    },
    {
      "cell_type": "code",
      "source": [],
      "metadata": {
        "id": "USiNKixfBcix"
      },
      "execution_count": null,
      "outputs": []
    },
    {
      "cell_type": "code",
      "source": [],
      "metadata": {
        "id": "FfaFgJc9BclE"
      },
      "execution_count": null,
      "outputs": []
    },
    {
      "cell_type": "code",
      "source": [],
      "metadata": {
        "id": "Kswu-8gVBcnT"
      },
      "execution_count": null,
      "outputs": []
    },
    {
      "cell_type": "code",
      "source": [],
      "metadata": {
        "id": "Ym6UlKglBcp2"
      },
      "execution_count": null,
      "outputs": []
    },
    {
      "cell_type": "code",
      "source": [],
      "metadata": {
        "id": "8bj9YoUhBcsl"
      },
      "execution_count": null,
      "outputs": []
    },
    {
      "cell_type": "code",
      "source": [],
      "metadata": {
        "id": "m-2aHgM5Bcu0"
      },
      "execution_count": null,
      "outputs": []
    },
    {
      "cell_type": "code",
      "source": [],
      "metadata": {
        "id": "wtuxYIJ7BcxN"
      },
      "execution_count": null,
      "outputs": []
    },
    {
      "cell_type": "code",
      "source": [],
      "metadata": {
        "id": "gPIGytz3Bczu"
      },
      "execution_count": null,
      "outputs": []
    },
    {
      "cell_type": "code",
      "source": [],
      "metadata": {
        "id": "OjeLF9DVBc2m"
      },
      "execution_count": null,
      "outputs": []
    }
  ]
}