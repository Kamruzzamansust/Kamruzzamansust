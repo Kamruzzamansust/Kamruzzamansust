{
  "nbformat": 4,
  "nbformat_minor": 0,
  "metadata": {
    "colab": {
      "provenance": [],
      "authorship_tag": "ABX9TyNnDwbOsA94ckF5a78QWSA5",
      "include_colab_link": true
    },
    "kernelspec": {
      "name": "python3",
      "display_name": "Python 3"
    },
    "language_info": {
      "name": "python"
    }
  },
  "cells": [
    {
      "cell_type": "markdown",
      "metadata": {
        "id": "view-in-github",
        "colab_type": "text"
      },
      "source": [
        "<a href=\"https://colab.research.google.com/github/Kamruzzamansust/Kamruzzamansust/blob/main/variables_and_simple_data_types.ipynb\" target=\"_parent\"><img src=\"https://colab.research.google.com/assets/colab-badge.svg\" alt=\"Open In Colab\"/></a>"
      ]
    },
    {
      "cell_type": "code",
      "execution_count": 2,
      "metadata": {
        "colab": {
          "base_uri": "https://localhost:8080/"
        },
        "id": "0kveivnjlJta",
        "outputId": "36c83bc7-412b-4f3f-a759-8262a25345fe"
      },
      "outputs": [
        {
          "output_type": "stream",
          "name": "stdout",
          "text": [
            "my name is md kamruzzman\n",
            "my nickname is arif\n"
          ]
        }
      ],
      "source": [
        "'''2-1. Simple Message: Store a message in \n",
        "a variable, and then print that\n",
        "message.'''\n",
        "'''2-2. Simple Messages: Store a message\n",
        " in a variable, and print that message.\n",
        "Then change the value of your variable to a\n",
        " new message, and print the new\n",
        "message.'''\n",
        "\n",
        "name = \"my name is md kamruzzman\"\n",
        "print(name)\n",
        "name = \"my nickname is arif\"\n",
        "print(name)"
      ]
    },
    {
      "cell_type": "markdown",
      "source": [
        "#Changing Case in a String with Methods#"
      ],
      "metadata": {
        "id": "7xgdSMtxmyFm"
      }
    },
    {
      "cell_type": "code",
      "source": [
        "name = ' my name is kamruzzaman'\n",
        "print(name.title())      '''titlecase, where each wordbegins with acapital letter'''\n",
        "\n"
      ],
      "metadata": {
        "colab": {
          "base_uri": "https://localhost:8080/"
        },
        "id": "s3gnWGujl0jp",
        "outputId": "e5613a35-3062-4cf9-fe88-d355b9c6bbcb"
      },
      "execution_count": 3,
      "outputs": [
        {
          "output_type": "stream",
          "name": "stdout",
          "text": [
            " My Name Is Kamruzzaman\n"
          ]
        }
      ]
    },
    {
      "cell_type": "code",
      "source": [
        "#LOwer case and upper case \n",
        "name = \"My Name Is Arif\"\n",
        "print(name.upper())\n",
        "print(name.lower())"
      ],
      "metadata": {
        "colab": {
          "base_uri": "https://localhost:8080/"
        },
        "id": "7ZbejlgJnXjo",
        "outputId": "88ac14ff-07af-4ec0-c8f9-2cc9c23dcbff"
      },
      "execution_count": 7,
      "outputs": [
        {
          "output_type": "stream",
          "name": "stdout",
          "text": [
            "MY NAME IS ARIF\n",
            "my name is arif\n"
          ]
        }
      ]
    },
    {
      "cell_type": "markdown",
      "source": [
        "#Combining or Concatenating Strings"
      ],
      "metadata": {
        "id": "gLDnIpQkoQo-"
      }
    },
    {
      "cell_type": "code",
      "source": [
        "str1 = 'my name is'\n",
        "str2 = 'arif'\n",
        "join_str = str1 + \" \" + str2\n",
        "print(join_str)\n",
        "#using concatenation\n",
        "print(str1 + \" \" +str2.title() + \"!\")"
      ],
      "metadata": {
        "colab": {
          "base_uri": "https://localhost:8080/"
        },
        "id": "gnHl-9TGoNzg",
        "outputId": "bbe64b29-9a9a-4222-ed9a-0098717dce5d"
      },
      "execution_count": 11,
      "outputs": [
        {
          "output_type": "stream",
          "name": "stdout",
          "text": [
            "my name is arif\n",
            "my name is Arif!\n"
          ]
        }
      ]
    },
    {
      "cell_type": "code",
      "source": [
        "#You can use concatenation to\n",
        "#compose a message and then store the\n",
        "#entire message in a variable:\n",
        "message = \"hello\" + 'arif' + '!'\n",
        "print(message)\n",
        "mesg = \"hello \" + 'arif ' + '!'\n",
        "print(mesg)\n",
        "msg = \"hello\" + \" \" + \"arif\" + \" \" + \"!\"\n",
        "print(msg)"
      ],
      "metadata": {
        "colab": {
          "base_uri": "https://localhost:8080/"
        },
        "id": "MOvgHgHbnXxX",
        "outputId": "3bf71b17-d2d1-4b6a-d02b-2fd33fd3ffbe"
      },
      "execution_count": 17,
      "outputs": [
        {
          "output_type": "stream",
          "name": "stdout",
          "text": [
            "helloarif!\n",
            "hello arif !\n",
            "hello arif !\n"
          ]
        }
      ]
    },
    {
      "cell_type": "markdown",
      "source": [
        "#Adding Whitespace to Strings with Tabs or Newlines"
      ],
      "metadata": {
        "id": "OYtH_dujzFuh"
      }
    },
    {
      "cell_type": "code",
      "source": [
        "'''In programming, whitespace refers to any nonprinting character, such as\n",
        "spaces, tabs, and end-of-line symbols. You can use whitespace to organize\n",
        "your output so it’s easier for users to read.\n",
        "To add a tab to your text, use the character combination \\t '''\n",
        "\n",
        "\n",
        "print('my name\\nis\\narif')\n",
        "print('my\\n\\tis\\t\\narif')\n"
      ],
      "metadata": {
        "colab": {
          "base_uri": "https://localhost:8080/"
        },
        "id": "U8CAPyhWnX0P",
        "outputId": "cd3ae1d9-8403-4a96-c632-9774b8b92bb6"
      },
      "execution_count": 20,
      "outputs": [
        {
          "output_type": "stream",
          "name": "stdout",
          "text": [
            "my name\n",
            "is\n",
            "arif\n",
            "my\n",
            "\tis\t\n",
            "arif\n"
          ]
        }
      ]
    },
    {
      "cell_type": "markdown",
      "source": [
        "#Stripping Whitespace"
      ],
      "metadata": {
        "id": "hFnzXt7H2NMK"
      }
    },
    {
      "cell_type": "code",
      "source": [
        "#Extra whitespace can be confusing in your programs\n",
        "'''It’s important to think about whitespace, because often you’ll want to\n",
        "compare two strings to determine whether they are the same. For example,\n",
        "one important instance might involve checking people’s usernames when\n",
        "they log in to a website'''\n"
      ],
      "metadata": {
        "id": "7kjtZ8T3nX3W"
      },
      "execution_count": null,
      "outputs": []
    },
    {
      "cell_type": "code",
      "source": [
        "'''To ensure that no whitespace\n",
        " exists at the right \n",
        "end of a string, use\n",
        "the rstrip() method.'''\n",
        "\n",
        "mssg = \"my name is arif   \"\n",
        "print(mssg.rstrip())\n",
        "\n",
        "\n",
        "#To remove the whitespace from the string permanently, you have to\n",
        "#store the stripped value back into the variable\n",
        "\n",
        "\n",
        "\n",
        "\n"
      ],
      "metadata": {
        "colab": {
          "base_uri": "https://localhost:8080/"
        },
        "id": "kdqEhYMPnX58",
        "outputId": "56ce925e-ce87-43ce-8e8d-c0f446d20c95"
      },
      "execution_count": 21,
      "outputs": [
        {
          "output_type": "stream",
          "name": "stdout",
          "text": [
            "my name is arif\n"
          ]
        }
      ]
    },
    {
      "cell_type": "code",
      "source": [
        "#You can also strip whitespace from the left side of a string using the\n",
        "#lstrip() method or strip whitespace from both sides at once using strip():\n"
      ],
      "metadata": {
        "id": "FCLFjR0ynX9J"
      },
      "execution_count": null,
      "outputs": []
    },
    {
      "cell_type": "markdown",
      "source": [
        "#EXCERCISE"
      ],
      "metadata": {
        "id": "o6nfoqcQ6ANx"
      }
    },
    {
      "cell_type": "code",
      "source": [
        "'''Find a quote from a famous person you admire. \n",
        "Print the quote and the name of its author. \n",
        "Your output should look \n",
        "something like the following,\n",
        " including the quotation marks:'''\n",
        " #problem :\n",
        "'''Albert Einstein once said, “A person who never made a\n",
        "mistake never tried anything new.”'''\n",
        "print('Alber Einstein once said, \"A person who never made a mistake ')\n",
        "print('never tried something new')\n"
      ],
      "metadata": {
        "colab": {
          "base_uri": "https://localhost:8080/"
        },
        "id": "XXaE9IG_nYAH",
        "outputId": "8395fe8d-eef4-4f53-fa9f-2fbd2d309737"
      },
      "execution_count": 24,
      "outputs": [
        {
          "output_type": "stream",
          "name": "stdout",
          "text": [
            "Alber Einstein once said, \"A person who never made a mistake \n",
            "never tried something new\n"
          ]
        }
      ]
    },
    {
      "cell_type": "code",
      "source": [
        "'''Use a variable to represent a person’s name, and \n",
        "include some whitespace characters at the beginning and \n",
        "end of the name. \n",
        "Make sure you use each character \n",
        "combination, “\\t” and “\\n”, at least once.\n",
        "Print the name once, so the whitespace around the name \n",
        "is displayed. Then print the name using each of the three \n",
        "stripping functions, lstrip(), rstrip(), and strip()'''"
      ],
      "metadata": {
        "id": "bvL7gk5PnYC8"
      },
      "execution_count": null,
      "outputs": []
    },
    {
      "cell_type": "code",
      "source": [
        "name =\"\\tkamruzzaman\\n\\t\"\n",
        "print(name)\n",
        "print(name.lstrip()) #using lstrip\n",
        "print(name.rstrip()) #using rstrip\n",
        "print(name.strip())  #using strip\n"
      ],
      "metadata": {
        "colab": {
          "base_uri": "https://localhost:8080/"
        },
        "id": "FB-sF98NnYFi",
        "outputId": "3b79f17a-f6b0-4645-8745-834041da447f"
      },
      "execution_count": 30,
      "outputs": [
        {
          "output_type": "stream",
          "name": "stdout",
          "text": [
            "\tkamruzzaman\n",
            "\t\n",
            "kamruzzaman\n",
            "\t\n",
            "\tkamruzzaman\n",
            "kamruzzaman\n"
          ]
        }
      ]
    },
    {
      "cell_type": "code",
      "source": [
        "#Use a variable to represent your favorite\n",
        "#number. Then, using that variable, create \n",
        "#a message that reveals your \n",
        "#favorite number. Print that message.\n",
        "\n",
        "favr_num = \"007\"\n",
        "mssg = f'I am james bond {favr_num}'\n",
        "print(mssg)"
      ],
      "metadata": {
        "colab": {
          "base_uri": "https://localhost:8080/"
        },
        "id": "GaTv54pFnYIY",
        "outputId": "29f8ab56-3529-40b4-8df8-5af31b83e4fe"
      },
      "execution_count": 32,
      "outputs": [
        {
          "output_type": "stream",
          "name": "stdout",
          "text": [
            "I am james bond 007\n"
          ]
        }
      ]
    },
    {
      "cell_type": "code",
      "source": [],
      "metadata": {
        "id": "fX8hhPCUnYK4"
      },
      "execution_count": null,
      "outputs": []
    },
    {
      "cell_type": "code",
      "source": [],
      "metadata": {
        "id": "eIU9Lv1inYNm"
      },
      "execution_count": null,
      "outputs": []
    },
    {
      "cell_type": "code",
      "source": [],
      "metadata": {
        "id": "9E1QghjVnYRJ"
      },
      "execution_count": null,
      "outputs": []
    }
  ]
}