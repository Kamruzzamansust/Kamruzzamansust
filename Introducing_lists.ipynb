{
  "nbformat": 4,
  "nbformat_minor": 0,
  "metadata": {
    "colab": {
      "provenance": [],
      "authorship_tag": "ABX9TyPCZCSb2foUfv7yaXGCXsIa",
      "include_colab_link": true
    },
    "kernelspec": {
      "name": "python3",
      "display_name": "Python 3"
    },
    "language_info": {
      "name": "python"
    }
  },
  "cells": [
    {
      "cell_type": "markdown",
      "metadata": {
        "id": "view-in-github",
        "colab_type": "text"
      },
      "source": [
        "<a href=\"https://colab.research.google.com/github/Kamruzzamansust/Kamruzzamansust/blob/main/Introducing_lists.ipynb\" target=\"_parent\"><img src=\"https://colab.research.google.com/assets/colab-badge.svg\" alt=\"Open In Colab\"/></a>"
      ]
    },
    {
      "cell_type": "code",
      "execution_count": null,
      "metadata": {
        "colab": {
          "base_uri": "https://localhost:8080/"
        },
        "id": "sPxx8cZeJkYX",
        "outputId": "84f0e811-6476-4fa3-f9ad-bc03463c8425"
      },
      "outputs": [
        {
          "output_type": "stream",
          "name": "stdout",
          "text": [
            "['trek', 'cannondale', 'redline', 'specialized']\n"
          ]
        }
      ],
      "source": [
        "#Here’s a simple example of a list that\n",
        "#contains a few kinds of bicycles:\n",
        "bicycles = [ \"trek\",\"cannondale\",\"redline\",\"specialized\" ]\n",
        "print(bicycles)"
      ]
    },
    {
      "cell_type": "markdown",
      "source": [
        "#Accessing Elements in a List"
      ],
      "metadata": {
        "id": "cX-I3vW5L1Wq"
      }
    },
    {
      "cell_type": "code",
      "source": [
        "'''Lists are ordered collections, so you \n",
        "can access any element in a list by\n",
        "telling Python the position, or \n",
        "index, of the item desired. To access an element in a list, write the name of the list followed by the index of the item\n",
        "enclosed in square brackets.''''"
      ],
      "metadata": {
        "id": "77NzNvqnL0X7"
      },
      "execution_count": null,
      "outputs": []
    },
    {
      "cell_type": "code",
      "source": [
        "bicycles = [ \"trek\",\"cannondale\",\"redline\",\"specialized\" ]\n",
        "print(bicycles[0])\n",
        "print(bicycles[1])\n",
        "print(bicycles[2])\n",
        "print(bicycles[3])"
      ],
      "metadata": {
        "colab": {
          "base_uri": "https://localhost:8080/"
        },
        "id": "LNjIQm55LJeW",
        "outputId": "d9c5c7b7-a815-4cde-d971-ce84a4890618"
      },
      "execution_count": null,
      "outputs": [
        {
          "output_type": "stream",
          "name": "stdout",
          "text": [
            "trek\n",
            "cannondale\n",
            "redline\n",
            "specialized\n"
          ]
        }
      ]
    },
    {
      "cell_type": "markdown",
      "source": [
        "#Using Individual Values from a List"
      ],
      "metadata": {
        "id": "U_ioj1psM30g"
      }
    },
    {
      "cell_type": "code",
      "source": [
        "bicycles = [ \"trek\",\"cannondale\",\"redline\",\"specialized\" ]\n",
        "mg = \"my first bycylcle is\"  + bicycles[2].title()\n",
        "print(mg)"
      ],
      "metadata": {
        "colab": {
          "base_uri": "https://localhost:8080/"
        },
        "id": "qchsjeOMLJll",
        "outputId": "1970f866-ae4a-41c6-cc3d-614b2dbc211e"
      },
      "execution_count": null,
      "outputs": [
        {
          "output_type": "stream",
          "name": "stdout",
          "text": [
            "my first bycylcle isRedline\n"
          ]
        }
      ]
    },
    {
      "cell_type": "markdown",
      "source": [
        "#List_exc_1"
      ],
      "metadata": {
        "id": "073BMYz0PuuM"
      }
    },
    {
      "cell_type": "code",
      "source": [
        "'''Store the names of a few of your friends in a list called names.\n",
        "Print each person’s name by accessing \n",
        "each element in the list, one at a time.'''\n",
        "\n",
        "names = [\"Alif\",\"Amit\",\"Upoma\",\"Orco\"]\n",
        "print(names[0])\n",
        "print(names[1])\n",
        "print(names[2])\n",
        "print(names[3])\n"
      ],
      "metadata": {
        "colab": {
          "base_uri": "https://localhost:8080/"
        },
        "id": "BURRl6nyLJoM",
        "outputId": "78681814-8052-4573-fcfc-2ac8fc428aab"
      },
      "execution_count": null,
      "outputs": [
        {
          "output_type": "stream",
          "name": "stdout",
          "text": [
            "Alif\n",
            "Amit\n",
            "Upoma\n",
            "Orco\n"
          ]
        }
      ]
    },
    {
      "cell_type": "code",
      "source": [
        "'''but instead of just printing \n",
        "each person’s name, print a message to them. \n",
        "The text of each message should be the same, \n",
        "but each message should be\n",
        "personalized with the person’s name.'''\n",
        "names = [\"alif\",\"amit\",\"upoma\"]\n",
        "msg = \"how \" + \"are \" + \"you \" + names[0].title() + \" ?\"\n",
        "print(msg)\n",
        "msg = f'how are you {names[2].title()} ?'\n",
        "print(msg)\n",
        "msg = f'how are you {names[1].title()} ?'\n",
        "print(msg)"
      ],
      "metadata": {
        "colab": {
          "base_uri": "https://localhost:8080/"
        },
        "id": "9nALUtXLLJq_",
        "outputId": "51ca9fcb-e801-4ee2-a979-49e440af3780"
      },
      "execution_count": null,
      "outputs": [
        {
          "output_type": "stream",
          "name": "stdout",
          "text": [
            "how are you Alif ?\n",
            "how are you Upoma ?\n",
            "how are you Amit ?\n"
          ]
        }
      ]
    },
    {
      "cell_type": "code",
      "source": [
        "'''Think of your favorite mode of transportation, such as a\n",
        "motorcycle or a car, and make a list that stores several examples.\n",
        " Use your list\n",
        "to print a series \n",
        "of statements about these items,\n",
        " such as “I would like to own a\n",
        "Honda motorcycle.'''\n",
        "\n",
        "cars = [\"corolla\",\"Bmw\",\"mazda\"]\n",
        "\n",
        "msg = f'i want to buy {cars[0]}!'\n",
        "print(msg)\n",
        "msg = f'my frnd has a {cars[2].title()}'\n",
        "print(msg)"
      ],
      "metadata": {
        "colab": {
          "base_uri": "https://localhost:8080/"
        },
        "id": "RKJVEq8cRizp",
        "outputId": "042f6156-cccd-4527-e56a-e505c57250b1"
      },
      "execution_count": null,
      "outputs": [
        {
          "output_type": "stream",
          "name": "stdout",
          "text": [
            "i want to buy corolla!\n",
            "my frnd has a Mazda\n"
          ]
        }
      ]
    },
    {
      "cell_type": "markdown",
      "source": [
        "#Modifying Elements in a List"
      ],
      "metadata": {
        "id": "dnhPrrPoXLji"
      }
    },
    {
      "cell_type": "code",
      "source": [
        "'''The syntax for modifying an element is\n",
        "similar to the syntax for accessing\n",
        "an element in a list. To change an element, \n",
        "use the name of the list followed\n",
        "by the index of the element you want to change,\n",
        "and then provide the new\n",
        "value you want that item to have'''\n",
        "motorcycles = ['honda', 'yamaha', 'suzuki']\n",
        "motorcycles[2]=\"Runner\"\n",
        "print(motorcycles)"
      ],
      "metadata": {
        "colab": {
          "base_uri": "https://localhost:8080/"
        },
        "id": "XGcmLGA9LJtn",
        "outputId": "3c04395c-35a8-43d4-c2a6-94408e8b027b"
      },
      "execution_count": null,
      "outputs": [
        {
          "output_type": "stream",
          "name": "stdout",
          "text": [
            "['honda', 'yamaha', 'Runner']\n"
          ]
        }
      ]
    },
    {
      "cell_type": "markdown",
      "source": [
        "#Adding Elements to a List"
      ],
      "metadata": {
        "id": "0jbZmcBtXyJ2"
      }
    },
    {
      "cell_type": "code",
      "source": [
        "'''The simplest way to add a new element to a list is to append the item to the\n",
        "list. When you append an item to a list, the new element is added to the end\n",
        "of the list'''\n",
        "\n",
        "motorcycles = ['honda', 'yamaha', 'suzuki']\n",
        "motorcycles.append('tvs')\n",
        "print(motorcycles)"
      ],
      "metadata": {
        "colab": {
          "base_uri": "https://localhost:8080/"
        },
        "id": "1Bzf78bzLJyW",
        "outputId": "45edfbe2-61b6-40d6-d2c5-5a40082b5f2a"
      },
      "execution_count": null,
      "outputs": [
        {
          "output_type": "stream",
          "name": "stdout",
          "text": [
            "['honda', 'yamaha', 'suzuki', 'tvs']\n"
          ]
        }
      ]
    },
    {
      "cell_type": "code",
      "source": [
        "motorcycles = []\n",
        "motorcycles.append('honda')\n",
        "motorcycles.append('yamaha')\n",
        "motorcycles.append('suzuki')\n",
        "print(motorcycles)"
      ],
      "metadata": {
        "colab": {
          "base_uri": "https://localhost:8080/"
        },
        "id": "YqVIR01ULJ0s",
        "outputId": "fc08153a-e123-4745-df2c-57cb69857216"
      },
      "execution_count": null,
      "outputs": [
        {
          "output_type": "stream",
          "name": "stdout",
          "text": [
            "['honda', 'yamaha', 'suzuki']\n"
          ]
        }
      ]
    },
    {
      "cell_type": "markdown",
      "source": [
        "#Inserting Elements into a List"
      ],
      "metadata": {
        "id": "at6T89UbZjda"
      }
    },
    {
      "cell_type": "code",
      "source": [
        "'''You can add a new element at any position\n",
        " in your list by using the insert()\n",
        "method. You do this by specifying \n",
        "the index of the new element and the\n",
        "value of the new item'''\n",
        "\n",
        "frnds = [\"Alif\",\"Amit\",\"Orco\"]\n",
        "frnds.insert(0,\"upoma\")\n",
        "print(frnds)"
      ],
      "metadata": {
        "colab": {
          "base_uri": "https://localhost:8080/"
        },
        "id": "E5pQkKJbZadW",
        "outputId": "b368011a-efef-4ff4-fce5-8666075f59ca"
      },
      "execution_count": null,
      "outputs": [
        {
          "output_type": "stream",
          "name": "stdout",
          "text": [
            "['upoma', 'Alif', 'Amit', 'Orco']\n"
          ]
        }
      ]
    },
    {
      "cell_type": "markdown",
      "source": [
        "#Removing Elements from a List"
      ],
      "metadata": {
        "id": "xbxb6JwZaFKG"
      }
    },
    {
      "cell_type": "code",
      "source": [
        "#del method\n",
        "frnds = [\"Alif\",\"Amit\",\"Orco\"]\n",
        "del frnds[1]\n",
        "print(frnds)"
      ],
      "metadata": {
        "colab": {
          "base_uri": "https://localhost:8080/"
        },
        "id": "LwxTdxhvLJ2_",
        "outputId": "37fc75d7-4c9e-446b-dbd7-856d73522c78"
      },
      "execution_count": null,
      "outputs": [
        {
          "output_type": "stream",
          "name": "stdout",
          "text": [
            "['Alif', 'Orco']\n"
          ]
        }
      ]
    },
    {
      "cell_type": "code",
      "source": [
        "#Removing an Item Using the pop() Method\n",
        "frnds\n",
        "last_frnd = frnds.pop()\n",
        "print(last_frnd)"
      ],
      "metadata": {
        "colab": {
          "base_uri": "https://localhost:8080/"
        },
        "id": "BOWBDWv6LJ5X",
        "outputId": "35dcaa29-bdc3-458b-92fa-ba9f34aea041"
      },
      "execution_count": null,
      "outputs": [
        {
          "output_type": "stream",
          "name": "stdout",
          "text": [
            "Orco\n"
          ]
        }
      ]
    },
    {
      "cell_type": "code",
      "source": [
        "#Popping Items from any Position in a List\n",
        "motorcycles = ['honda', 'yamaha', 'suzuki']\n",
        "first_owned = motorcycles.pop(2)\n",
        "print('The first motorcycle I owned was a ' + first_owned.title() + '.')"
      ],
      "metadata": {
        "colab": {
          "base_uri": "https://localhost:8080/"
        },
        "id": "Dq1fxolgbsgM",
        "outputId": "7c011455-77ab-4c61-da83-f08b6e433ebf"
      },
      "execution_count": null,
      "outputs": [
        {
          "output_type": "stream",
          "name": "stdout",
          "text": [
            "The first motorcycle I owned was a Suzuki.\n"
          ]
        }
      ]
    },
    {
      "cell_type": "code",
      "source": [
        "#Removing an Item by Value\n",
        "frnds = [\"Alif\",\"Amit\",\"Orco\"]\n",
        "print(frnds)\n",
        "frnds.remove(\"Amit\")\n",
        "print(frnds)"
      ],
      "metadata": {
        "colab": {
          "base_uri": "https://localhost:8080/"
        },
        "id": "a1Rk5ViEbsmk",
        "outputId": "d33c970a-2077-4456-85d2-487571e13749"
      },
      "execution_count": null,
      "outputs": [
        {
          "output_type": "stream",
          "name": "stdout",
          "text": [
            "['Alif', 'Amit', 'Orco']\n",
            "['Alif', 'Orco']\n"
          ]
        }
      ]
    },
    {
      "cell_type": "code",
      "source": [
        "frnds = [\"Alif\",\"Amit\",\"Orco\"]\n",
        "print(frnds)\n",
        "fr = \"Amit\"\n",
        "frnds.remove(fr)\n",
        "print(frnds)\n",
        "print(\"\\nOnce \" + \"i have a frnd named\" + \" \" + fr.lower())"
      ],
      "metadata": {
        "colab": {
          "base_uri": "https://localhost:8080/"
        },
        "id": "kEyJJxxybspM",
        "outputId": "48ee5be1-6751-49c5-f3d8-7c872f494411"
      },
      "execution_count": null,
      "outputs": [
        {
          "output_type": "stream",
          "name": "stdout",
          "text": [
            "['Alif', 'Amit', 'Orco']\n",
            "['Alif', 'Orco']\n",
            "\n",
            "Once i have a frnd named amit\n"
          ]
        }
      ]
    },
    {
      "cell_type": "markdown",
      "source": [
        "#Organizing a List"
      ],
      "metadata": {
        "id": "vruGp1i3JaQ3"
      }
    },
    {
      "cell_type": "code",
      "source": [
        "#Sorting a List Permanently with the sort() Method\n",
        "cars = ['bmw','audi','tyota','subaru']\n",
        "cars.sort()\n",
        "print(cars)\n",
        "cars.sort(reverse = True)\n",
        "print(cars)\n",
        "#Sorting a List Temporarily with the sorted() Function\n",
        "print(' Temporarily sorted list:')\n",
        "print(sorted(cars))\n",
        "\n",
        "\n",
        "\n",
        "\n"
      ],
      "metadata": {
        "colab": {
          "base_uri": "https://localhost:8080/"
        },
        "id": "xEDGD22wJZaP",
        "outputId": "60b28edb-b99c-4d76-d5a7-3ca1043c6092"
      },
      "execution_count": 6,
      "outputs": [
        {
          "output_type": "stream",
          "name": "stdout",
          "text": [
            "['audi', 'bmw', 'subaru', 'tyota']\n",
            "['tyota', 'subaru', 'bmw', 'audi']\n",
            " Temporarily sorted list:\n",
            "['audi', 'bmw', 'subaru', 'tyota']\n"
          ]
        }
      ]
    },
    {
      "cell_type": "code",
      "source": [
        "#Printing a List in Reverse Order\n",
        "#To reverse the original order of a list, you can use the reverse() method. \n",
        "cars = [ 'bmw','audi','toyota','subaro']\n",
        "print(cars)\n",
        "cars.reverse()\n",
        "print(cars)\n",
        "'''The reverse() method changes the order of a list permanently, but you\n",
        "can revert to the original order anytime by applying reverse() to the same\n",
        "list a second time.'''\n"
      ],
      "metadata": {
        "colab": {
          "base_uri": "https://localhost:8080/"
        },
        "id": "TQE1VL37KVTq",
        "outputId": "3513c543-77be-4c0a-b5d9-ea0bbcbe4a03"
      },
      "execution_count": 7,
      "outputs": [
        {
          "output_type": "stream",
          "name": "stdout",
          "text": [
            "['bmw', 'audi', 'toyota', 'subaro']\n",
            "['subaro', 'toyota', 'audi', 'bmw']\n"
          ]
        }
      ]
    },
    {
      "cell_type": "code",
      "source": [
        "#Finding the Length of a List\n",
        "cars = ['bmw', 'audi', 'toyota', 'subaru']\n",
        "len(cars)"
      ],
      "metadata": {
        "colab": {
          "base_uri": "https://localhost:8080/"
        },
        "id": "-8L6UR-SJY3A",
        "outputId": "4d0c2b90-5062-4265-cfd3-5b5a76df0c1c"
      },
      "execution_count": 9,
      "outputs": [
        {
          "output_type": "execute_result",
          "data": {
            "text/plain": [
              "4"
            ]
          },
          "metadata": {},
          "execution_count": 9
        }
      ]
    },
    {
      "cell_type": "markdown",
      "source": [
        "#EXCERCISE\n"
      ],
      "metadata": {
        "id": "pJk2EV6nQp1v"
      }
    },
    {
      "cell_type": "code",
      "source": [
        "#Think of at least five places in the world you’d like to visit."
      ],
      "metadata": {
        "id": "q2VYDpEtQpTo"
      },
      "execution_count": null,
      "outputs": []
    },
    {
      "cell_type": "code",
      "source": [
        "#Store the locations in a list. Make sure the list is not in alphabetical order.\n",
        "\n",
        "places = ['chittagong','dhaka','sylhet','nrayangomj','gaibandha']\n",
        "\n",
        "#Print your list in its original order. \n",
        "#Don’t worry about printing the list neatly,\n",
        "#just print it as a raw Python list\n",
        "\n",
        "print(places)\n",
        "#Use sorted() to print your list in alphabetical order without modifying the actual list.\n",
        "\n",
        "print(sorted(places))\n",
        "#Show that your list is still in its original order by printing it.\n",
        "print(places)\n",
        "#Use sorted() to print your list in reverse alphabetical order without \n",
        "#changing the order of the original list\n",
        "print(sorted(places,reverse = True))\n",
        "#Use reverse() to change the order of your list. \n",
        "#Print the list to show that its order has changed\n",
        "places.reverse()\n",
        "print(places)\n",
        "\n",
        "#Use reverse() to change the order of your list again. Print the\n",
        "#list to show it’s back to its original order.\n",
        "places.reverse()\n",
        "print(places)\n",
        "\n",
        "#Use sort() to change your list so it’s stored in alphabetical order.\n",
        "#Print the list to show that its order has been changed.\n",
        "\n",
        "places.sort()\n",
        "print(places)\n",
        "places.sort(reverse = True)\n",
        "print(places)\n"
      ],
      "metadata": {
        "id": "Wu73umv5bsr-",
        "colab": {
          "base_uri": "https://localhost:8080/"
        },
        "outputId": "e6948f27-3251-4bf3-f547-d2742eede333"
      },
      "execution_count": 24,
      "outputs": [
        {
          "output_type": "stream",
          "name": "stdout",
          "text": [
            "['chittagong', 'dhaka', 'sylhet', 'nrayangomj', 'gaibandha']\n",
            "['chittagong', 'dhaka', 'gaibandha', 'nrayangomj', 'sylhet']\n",
            "['chittagong', 'dhaka', 'sylhet', 'nrayangomj', 'gaibandha']\n",
            "['sylhet', 'nrayangomj', 'gaibandha', 'dhaka', 'chittagong']\n",
            "['gaibandha', 'nrayangomj', 'sylhet', 'dhaka', 'chittagong']\n",
            "['chittagong', 'dhaka', 'sylhet', 'nrayangomj', 'gaibandha']\n",
            "['chittagong', 'dhaka', 'gaibandha', 'nrayangomj', 'sylhet']\n",
            "['sylhet', 'nrayangomj', 'gaibandha', 'dhaka', 'chittagong']\n"
          ]
        }
      ]
    },
    {
      "cell_type": "code",
      "source": [],
      "metadata": {
        "id": "g_je9AK6RVkM"
      },
      "execution_count": null,
      "outputs": []
    },
    {
      "cell_type": "code",
      "source": [],
      "metadata": {
        "id": "5RVvv08pbsud"
      },
      "execution_count": null,
      "outputs": []
    },
    {
      "cell_type": "code",
      "source": [],
      "metadata": {
        "id": "wpA3GDFrbsxC"
      },
      "execution_count": null,
      "outputs": []
    },
    {
      "cell_type": "code",
      "source": [],
      "metadata": {
        "id": "II-njx3Jbszr"
      },
      "execution_count": null,
      "outputs": []
    },
    {
      "cell_type": "code",
      "source": [],
      "metadata": {
        "id": "MdQmcOd2bs2t"
      },
      "execution_count": null,
      "outputs": []
    },
    {
      "cell_type": "code",
      "source": [],
      "metadata": {
        "id": "JE8PSoiibs6P"
      },
      "execution_count": null,
      "outputs": []
    },
    {
      "cell_type": "code",
      "source": [],
      "metadata": {
        "id": "QEE1fXFXbs9v"
      },
      "execution_count": null,
      "outputs": []
    },
    {
      "cell_type": "code",
      "source": [],
      "metadata": {
        "id": "AaF0ffmobs_Q"
      },
      "execution_count": null,
      "outputs": []
    },
    {
      "cell_type": "code",
      "source": [],
      "metadata": {
        "id": "b8LLTrPDbtBa"
      },
      "execution_count": null,
      "outputs": []
    },
    {
      "cell_type": "code",
      "source": [],
      "metadata": {
        "id": "2YRj_QC4btDZ"
      },
      "execution_count": null,
      "outputs": []
    },
    {
      "cell_type": "code",
      "source": [],
      "metadata": {
        "id": "dP5567o6btFW"
      },
      "execution_count": null,
      "outputs": []
    },
    {
      "cell_type": "code",
      "source": [],
      "metadata": {
        "id": "6YhilMWjbtH-"
      },
      "execution_count": null,
      "outputs": []
    },
    {
      "cell_type": "code",
      "source": [],
      "metadata": {
        "id": "SG5bx1fJbtKG"
      },
      "execution_count": null,
      "outputs": []
    }
  ]
}