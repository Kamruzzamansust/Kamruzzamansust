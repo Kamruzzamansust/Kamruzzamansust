{
  "nbformat": 4,
  "nbformat_minor": 0,
  "metadata": {
    "colab": {
      "provenance": [],
      "gpuType": "T4",
      "authorship_tag": "ABX9TyNYJYlnwZPsozCC86bmUaG2",
      "include_colab_link": true
    },
    "kernelspec": {
      "name": "python3",
      "display_name": "Python 3"
    },
    "language_info": {
      "name": "python"
    },
    "accelerator": "GPU"
  },
  "cells": [
    {
      "cell_type": "markdown",
      "metadata": {
        "id": "view-in-github",
        "colab_type": "text"
      },
      "source": [
        "<a href=\"https://colab.research.google.com/github/Kamruzzamansust/Kamruzzamansust/blob/main/Text_Summarization1.ipynb\" target=\"_parent\"><img src=\"https://colab.research.google.com/assets/colab-badge.svg\" alt=\"Open In Colab\"/></a>"
      ]
    },
    {
      "cell_type": "code",
      "execution_count": 73,
      "metadata": {
        "id": "23d_XuTFH9au"
      },
      "outputs": [],
      "source": [
        "!pip install transformers[sentencepiece] datasets sacrebleu rouge_score py7zr -q\n",
        "\n",
        "#what is sacebleu?\n"
      ]
    },
    {
      "cell_type": "code",
      "source": [],
      "metadata": {
        "id": "4cMqu2XBITXj"
      },
      "execution_count": 73,
      "outputs": []
    },
    {
      "cell_type": "code",
      "source": [
        "from transformers import pipeline ,set_seed\n",
        "import matplotlib.pyplot as plt\n",
        "import pandas as pd\n",
        "from datasets import load_dataset, load_metric\n",
        "from transformers import AutoModelForSeq2SeqLM,AutoTokenizer\n",
        "import nltk\n",
        "from nltk.tokenize import sent_tokenize\n",
        "\n",
        "from tqdm import tqdm# what is it ?\n",
        "import torch\n",
        "nltk.download('punkt')"
      ],
      "metadata": {
        "colab": {
          "base_uri": "https://localhost:8080/"
        },
        "id": "5_o9GhqyITg5",
        "outputId": "94202b29-b88c-40e6-c7f3-1582925cdb31"
      },
      "execution_count": 74,
      "outputs": [
        {
          "output_type": "stream",
          "name": "stderr",
          "text": [
            "[nltk_data] Downloading package punkt to /root/nltk_data...\n",
            "[nltk_data]   Package punkt is already up-to-date!\n"
          ]
        },
        {
          "output_type": "execute_result",
          "data": {
            "text/plain": [
              "True"
            ]
          },
          "metadata": {},
          "execution_count": 74
        }
      ]
    },
    {
      "cell_type": "code",
      "source": [
        "from datasets import load_dataset\n",
        "dataset = load_dataset('cnn_dailymail','3.0.0')\n",
        "print(f\"Features in cnn_dailymail: {dataset['train'].column_names}\")\n",
        "\n",
        "\n"
      ],
      "metadata": {
        "colab": {
          "base_uri": "https://localhost:8080/"
        },
        "id": "k6vEoubjITln",
        "outputId": "9ae0eb94-55ad-4158-ff06-f48afecfd7c0"
      },
      "execution_count": 75,
      "outputs": [
        {
          "output_type": "stream",
          "name": "stdout",
          "text": [
            "Features in cnn_dailymail: ['article', 'highlights', 'id']\n"
          ]
        }
      ]
    },
    {
      "cell_type": "code",
      "source": [
        "sample = dataset['train'][1]\n",
        "\n",
        "len(sample['article']) , len(sample['highlights'])\n"
      ],
      "metadata": {
        "colab": {
          "base_uri": "https://localhost:8080/"
        },
        "id": "SoBc6nq-Lf19",
        "outputId": "0d9acef7-a26a-487c-ea81-c7112fcef1b2"
      },
      "execution_count": 76,
      "outputs": [
        {
          "output_type": "execute_result",
          "data": {
            "text/plain": [
              "(4051, 281)"
            ]
          },
          "metadata": {},
          "execution_count": 76
        }
      ]
    },
    {
      "cell_type": "code",
      "source": [
        "sample"
      ],
      "metadata": {
        "colab": {
          "base_uri": "https://localhost:8080/"
        },
        "id": "lPxfCRZ5Lf4k",
        "outputId": "ff7bd01e-8959-4375-8df5-eaf80e6bc59e"
      },
      "execution_count": 77,
      "outputs": [
        {
          "output_type": "execute_result",
          "data": {
            "text/plain": [
              "{'article': 'Editor\\'s note: In our Behind the Scenes series, CNN correspondents share their experiences in covering news and analyze the stories behind the events. Here, Soledad O\\'Brien takes users inside a jail where many of the inmates are mentally ill. An inmate housed on the \"forgotten floor,\" where many mentally ill inmates are housed in Miami before trial. MIAMI, Florida (CNN) -- The ninth floor of the Miami-Dade pretrial detention facility is dubbed the \"forgotten floor.\" Here, inmates with the most severe mental illnesses are incarcerated until they\\'re ready to appear in court. Most often, they face drug charges or charges of assaulting an officer --charges that Judge Steven Leifman says are usually \"avoidable felonies.\" He says the arrests often result from confrontations with police. Mentally ill people often won\\'t do what they\\'re told when police arrive on the scene -- confrontation seems to exacerbate their illness and they become more paranoid, delusional, and less likely to follow directions, according to Leifman. So, they end up on the ninth floor severely mentally disturbed, but not getting any real help because they\\'re in jail. We toured the jail with Leifman. He is well known in Miami as an advocate for justice and the mentally ill. Even though we were not exactly welcomed with open arms by the guards, we were given permission to shoot videotape and tour the floor.  Go inside the \\'forgotten floor\\' » . At first, it\\'s hard to determine where the people are. The prisoners are wearing sleeveless robes. Imagine cutting holes for arms and feet in a heavy wool sleeping bag -- that\\'s kind of what they look like. They\\'re designed to keep the mentally ill patients from injuring themselves. That\\'s also why they have no shoes, laces or mattresses. Leifman says about one-third of all people in Miami-Dade county jails are mentally ill. So, he says, the sheer volume is overwhelming the system, and the result is what we see on the ninth floor. Of course, it is a jail, so it\\'s not supposed to be warm and comforting, but the lights glare, the cells are tiny and it\\'s loud. We see two, sometimes three men -- sometimes in the robes, sometimes naked, lying or sitting in their cells. \"I am the son of the president. You need to get me out of here!\" one man shouts at me. He is absolutely serious, convinced that help is on the way -- if only he could reach the White House. Leifman tells me that these prisoner-patients will often circulate through the system, occasionally stabilizing in a mental hospital, only to return to jail to face their charges. It\\'s brutally unjust, in his mind, and he has become a strong advocate for changing things in Miami. Over a meal later, we talk about how things got this way for mental patients. Leifman says 200 years ago people were considered \"lunatics\" and they were locked up in jails even if they had no charges against them. They were just considered unfit to be in society. Over the years, he says, there was some public outcry, and the mentally ill were moved out of jails and into hospitals. But Leifman says many of these mental hospitals were so horrible they were shut down. Where did the patients go? Nowhere. The streets. They became, in many cases, the homeless, he says. They never got treatment. Leifman says in 1955 there were more than half a million people in state mental hospitals, and today that number has been reduced 90 percent, and 40,000 to 50,000 people are in mental hospitals. The judge says he\\'s working to change this. Starting in 2008, many inmates who would otherwise have been brought to the \"forgotten floor\"  will instead be sent to a new mental health facility -- the first step on a journey toward long-term treatment, not just punishment. Leifman says it\\'s not the complete answer, but it\\'s a start. Leifman says the best part is that it\\'s a win-win solution. The patients win, the families are relieved, and the state saves money by simply not cycling these prisoners through again and again. And, for Leifman, justice is served. E-mail to a friend .',\n",
              " 'highlights': 'Mentally ill inmates in Miami are housed on the \"forgotten floor\"\\nJudge Steven Leifman says most are there as a result of \"avoidable felonies\"\\nWhile CNN tours facility, patient shouts: \"I am the son of the president\"\\nLeifman says the system is unjust and he\\'s fighting for change .',\n",
              " 'id': 'ee8871b15c50d0db17b0179a6d2beab35065f1e9'}"
            ]
          },
          "metadata": {},
          "execution_count": 77
        }
      ]
    },
    {
      "cell_type": "code",
      "source": [],
      "metadata": {
        "id": "hN1ya2IkLf7N"
      },
      "execution_count": 77,
      "outputs": []
    },
    {
      "cell_type": "code",
      "source": [
        "dataset"
      ],
      "metadata": {
        "colab": {
          "base_uri": "https://localhost:8080/"
        },
        "id": "f9VqjqI9IToc",
        "outputId": "91145c0e-31cb-4b68-b59d-61a8d81fb03a"
      },
      "execution_count": 78,
      "outputs": [
        {
          "output_type": "execute_result",
          "data": {
            "text/plain": [
              "DatasetDict({\n",
              "    train: Dataset({\n",
              "        features: ['article', 'highlights', 'id'],\n",
              "        num_rows: 287113\n",
              "    })\n",
              "    validation: Dataset({\n",
              "        features: ['article', 'highlights', 'id'],\n",
              "        num_rows: 13368\n",
              "    })\n",
              "    test: Dataset({\n",
              "        features: ['article', 'highlights', 'id'],\n",
              "        num_rows: 11490\n",
              "    })\n",
              "})"
            ]
          },
          "metadata": {},
          "execution_count": 78
        }
      ]
    },
    {
      "cell_type": "code",
      "source": [
        "#text summerization pipline\n",
        "\n"
      ],
      "metadata": {
        "id": "qYLgBnC0ITra"
      },
      "execution_count": 79,
      "outputs": []
    },
    {
      "cell_type": "code",
      "source": [
        "sample_text = dataset['train'][1]['article'][:1000]\n",
        "summaries={}"
      ],
      "metadata": {
        "id": "2gtn6g8YITt9"
      },
      "execution_count": 80,
      "outputs": []
    },
    {
      "cell_type": "code",
      "source": [
        "len(sample_text)"
      ],
      "metadata": {
        "colab": {
          "base_uri": "https://localhost:8080/"
        },
        "id": "t41E25WjITwt",
        "outputId": "862f3e0c-fdbf-494a-e688-5653a2482eec"
      },
      "execution_count": 81,
      "outputs": [
        {
          "output_type": "execute_result",
          "data": {
            "text/plain": [
              "1000"
            ]
          },
          "metadata": {},
          "execution_count": 81
        }
      ]
    },
    {
      "cell_type": "code",
      "source": [],
      "metadata": {
        "id": "DWxoLXtjOfeo"
      },
      "execution_count": 81,
      "outputs": []
    },
    {
      "cell_type": "code",
      "source": [
        "#summerization Baseline\n",
        "\n",
        "def baseline_summary_three_sent(text):\n",
        "  return \"\\n\".join(sent_tokenize(text)[:100])"
      ],
      "metadata": {
        "id": "K3OjCv8eOR2L"
      },
      "execution_count": 117,
      "outputs": []
    },
    {
      "cell_type": "code",
      "source": [
        "summaries['baseline'] = baseline_summary_three_sent(sample_text)\n",
        "summaries['baseline']"
      ],
      "metadata": {
        "colab": {
          "base_uri": "https://localhost:8080/",
          "height": 105
        },
        "id": "X2Eveu1fOSDa",
        "outputId": "672f6a65-2d78-459d-d7d4-021cd3c469df"
      },
      "execution_count": 83,
      "outputs": [
        {
          "output_type": "execute_result",
          "data": {
            "text/plain": [
              "'Editor\\'s note: In our Behind the Scenes series, CNN correspondents share their experiences in covering news and analyze the stories behind the events.\\nHere, Soledad O\\'Brien takes users inside a jail where many of the inmates are mentally ill. An inmate housed on the \"forgotten floor,\" where many mentally ill inmates are housed in Miami before trial.\\nMIAMI, Florida (CNN) -- The ninth floor of the Miami-Dade pretrial detention facility is dubbed the \"forgotten floor.\"\\nHere, inmates with the most severe mental illnesses are incarcerated until they\\'re ready to appear in court.\\nMost often, they face drug charges or charges of assaulting an officer --charges that Judge Steven Leifman says are usually \"avoidable felonies.\"\\nHe says the arrests often result from confrontations with police.\\nMentally ill people often won\\'t do what they\\'re told when police arrive on the scene -- confrontation seems to exacerbate their illness and they become more paranoid, delusional, and less likely to follow dir'"
            ],
            "application/vnd.google.colaboratory.intrinsic+json": {
              "type": "string"
            }
          },
          "metadata": {},
          "execution_count": 83
        }
      ]
    },
    {
      "cell_type": "code",
      "source": [
        "set_seed(42)\n",
        "\n",
        "pipe= pipeline('text-generation',model = 'gpt2-medium')\n",
        "\n",
        "gpt2_query = sample_text + \"\\nTL:DR:\\n\"\n",
        "\n",
        "pipe_out = pipe(gpt2_query ,max_length= 512 )"
      ],
      "metadata": {
        "colab": {
          "base_uri": "https://localhost:8080/"
        },
        "id": "_4bUKQLHOSGZ",
        "outputId": "3e0736d9-dab3-4e1e-f73f-9e60b8ef38b0"
      },
      "execution_count": 84,
      "outputs": [
        {
          "output_type": "stream",
          "name": "stderr",
          "text": [
            "Setting `pad_token_id` to `eos_token_id`:50256 for open-end generation.\n"
          ]
        }
      ]
    },
    {
      "cell_type": "code",
      "source": [
        "pipe_out # this is gpt2's output from my pipe"
      ],
      "metadata": {
        "colab": {
          "base_uri": "https://localhost:8080/"
        },
        "id": "CdJMmlycOSJW",
        "outputId": "1425b548-7d24-40b1-fcbe-37268ac0245a"
      },
      "execution_count": 85,
      "outputs": [
        {
          "output_type": "execute_result",
          "data": {
            "text/plain": [
              "[{'generated_text': 'Editor\\'s note: In our Behind the Scenes series, CNN correspondents share their experiences in covering news and analyze the stories behind the events. Here, Soledad O\\'Brien takes users inside a jail where many of the inmates are mentally ill. An inmate housed on the \"forgotten floor,\" where many mentally ill inmates are housed in Miami before trial. MIAMI, Florida (CNN) -- The ninth floor of the Miami-Dade pretrial detention facility is dubbed the \"forgotten floor.\" Here, inmates with the most severe mental illnesses are incarcerated until they\\'re ready to appear in court. Most often, they face drug charges or charges of assaulting an officer --charges that Judge Steven Leifman says are usually \"avoidable felonies.\" He says the arrests often result from confrontations with police. Mentally ill people often won\\'t do what they\\'re told when police arrive on the scene -- confrontation seems to exacerbate their illness and they become more paranoid, delusional, and less likely to follow dir\\nTL:DR:\\nThe Eighth Amendment of the U.S. Constitution protects citizens from unreasonable search & seizure. This is what Leifman said in a 2012 hearing before Florida\\'s Florida Supreme Court when questioned by two men in their 50s at a detention facility for mentally ill inmates. When he started the hearing, the lawyers for these six men said these six were accused of being involved in what Leifman calls the \"worst case of animal trafficking the U.S. has ever seen.\" They were not charged with committing a crime. But in his comments at the hearing, Leifman said that\\'s how they would be treated if they were arrested and convicted. He said in 2011, there were about 100 cases per month in Florida where inmates charged with crimes were held after making no attempt to seek care or help. The facility\\'s top official has acknowledged hundreds of these cases, the vast majority of which are mentally ill. All of these inmates face charges of failing to show up for their court dates or failing to sign or submit to a court order in order to receive treatment. He said at the time that they could be locked up for the rest of their lives. As his hearing became more heated and confrontational, the men in their 50s were visibly shaken by the incident. When we spoke with them afterwards, however, two were willing to testify -- one accused them of being mentally ill, the other accused them of being violent. One man, though, felt even worse and became suicidal -- his anxiety began to consume him.'}]"
            ]
          },
          "metadata": {},
          "execution_count": 85
        }
      ]
    },
    {
      "cell_type": "code",
      "source": [
        "generated_text = pipe_out[0]['generated_text']\n",
        "start_index = generated_text.find(gpt2_query) + len(gpt2_query)\n",
        "result_text = generated_text[start_index:]\n",
        "\n",
        "\n",
        "print(result_text)\n"
      ],
      "metadata": {
        "colab": {
          "base_uri": "https://localhost:8080/"
        },
        "id": "Wh1ZJw9bOSMW",
        "outputId": "6e67d456-7540-43a4-e489-5c924af3bf99"
      },
      "execution_count": 86,
      "outputs": [
        {
          "output_type": "stream",
          "name": "stdout",
          "text": [
            "The Eighth Amendment of the U.S. Constitution protects citizens from unreasonable search & seizure. This is what Leifman said in a 2012 hearing before Florida's Florida Supreme Court when questioned by two men in their 50s at a detention facility for mentally ill inmates. When he started the hearing, the lawyers for these six men said these six were accused of being involved in what Leifman calls the \"worst case of animal trafficking the U.S. has ever seen.\" They were not charged with committing a crime. But in his comments at the hearing, Leifman said that's how they would be treated if they were arrested and convicted. He said in 2011, there were about 100 cases per month in Florida where inmates charged with crimes were held after making no attempt to seek care or help. The facility's top official has acknowledged hundreds of these cases, the vast majority of which are mentally ill. All of these inmates face charges of failing to show up for their court dates or failing to sign or submit to a court order in order to receive treatment. He said at the time that they could be locked up for the rest of their lives. As his hearing became more heated and confrontational, the men in their 50s were visibly shaken by the incident. When we spoke with them afterwards, however, two were willing to testify -- one accused them of being mentally ill, the other accused them of being violent. One man, though, felt even worse and became suicidal -- his anxiety began to consume him.\n"
          ]
        }
      ]
    },
    {
      "cell_type": "code",
      "source": [
        "from nltk.tokenize import sent_tokenize\n",
        "\n",
        "# Assuming result_text is the generated text\n",
        "summaries['gpt2'] = \"\\n\".join(sent_tokenize(result_text))\n"
      ],
      "metadata": {
        "id": "LFEy_b0FU4U4"
      },
      "execution_count": 87,
      "outputs": []
    },
    {
      "cell_type": "code",
      "source": [
        "summaries['gpt2']"
      ],
      "metadata": {
        "colab": {
          "base_uri": "https://localhost:8080/",
          "height": 105
        },
        "id": "4xyA-wfnU4Xo",
        "outputId": "f595170d-7e2e-4670-b07b-d0ff388f0339"
      },
      "execution_count": 88,
      "outputs": [
        {
          "output_type": "execute_result",
          "data": {
            "text/plain": [
              "'The Eighth Amendment of the U.S. Constitution protects citizens from unreasonable search & seizure.\\nThis is what Leifman said in a 2012 hearing before Florida\\'s Florida Supreme Court when questioned by two men in their 50s at a detention facility for mentally ill inmates.\\nWhen he started the hearing, the lawyers for these six men said these six were accused of being involved in what Leifman calls the \"worst case of animal trafficking the U.S. has ever seen.\"\\nThey were not charged with committing a crime.\\nBut in his comments at the hearing, Leifman said that\\'s how they would be treated if they were arrested and convicted.\\nHe said in 2011, there were about 100 cases per month in Florida where inmates charged with crimes were held after making no attempt to seek care or help.\\nThe facility\\'s top official has acknowledged hundreds of these cases, the vast majority of which are mentally ill. All of these inmates face charges of failing to show up for their court dates or failing to sign or submit to a court order in order to receive treatment.\\nHe said at the time that they could be locked up for the rest of their lives.\\nAs his hearing became more heated and confrontational, the men in their 50s were visibly shaken by the incident.\\nWhen we spoke with them afterwards, however, two were willing to testify -- one accused them of being mentally ill, the other accused them of being violent.\\nOne man, though, felt even worse and became suicidal -- his anxiety began to consume him.'"
            ],
            "application/vnd.google.colaboratory.intrinsic+json": {
              "type": "string"
            }
          },
          "metadata": {},
          "execution_count": 88
        }
      ]
    },
    {
      "cell_type": "code",
      "source": [],
      "metadata": {
        "id": "DCzkoaBZU4aF"
      },
      "execution_count": 88,
      "outputs": []
    },
    {
      "cell_type": "markdown",
      "source": [
        "**T5**"
      ],
      "metadata": {
        "id": "B4AmFLRAVcB6"
      }
    },
    {
      "cell_type": "code",
      "source": [
        "''' T5 is well known transformers which is used for text generation ,\n",
        "text summarization,Q&A ,Classification task ,machine translation\n",
        "how it is different from bert?\n",
        "\n",
        "\n",
        "'''"
      ],
      "metadata": {
        "id": "As8YT_c-U4cR",
        "colab": {
          "base_uri": "https://localhost:8080/",
          "height": 36
        },
        "outputId": "3c42b381-47e5-472f-d741-255e8ec202be"
      },
      "execution_count": 89,
      "outputs": [
        {
          "output_type": "execute_result",
          "data": {
            "text/plain": [
              "' T5 is well known transformers which is used for text generation ,\\ntext summarization,Q&A ,Classification task ,machine translation\\nhow it is different from bert?\\n\\n\\n'"
            ],
            "application/vnd.google.colaboratory.intrinsic+json": {
              "type": "string"
            }
          },
          "metadata": {},
          "execution_count": 89
        }
      ]
    },
    {
      "cell_type": "code",
      "source": [
        "#note : using hugging face pipline we can directly use T5"
      ],
      "metadata": {
        "id": "EP-FGtlWU4fw"
      },
      "execution_count": 90,
      "outputs": []
    },
    {
      "cell_type": "code",
      "source": [
        "pipe = pipeline( 'summarization' , model = 't5-small')\n",
        "\n",
        "pipe_out2 = pipe(sample_text)"
      ],
      "metadata": {
        "id": "Zd9VSzmPWYY3"
      },
      "execution_count": 91,
      "outputs": []
    },
    {
      "cell_type": "code",
      "source": [
        "pipe_out2"
      ],
      "metadata": {
        "colab": {
          "base_uri": "https://localhost:8080/"
        },
        "id": "CdmOAy7oWYcI",
        "outputId": "bace66d6-4108-4cc2-d756-27a3d4ad59ba"
      },
      "execution_count": 92,
      "outputs": [
        {
          "output_type": "execute_result",
          "data": {
            "text/plain": [
              "[{'summary_text': \"inmates with the most severe mental illnesses are incarcerated until they're ready to appear in court . most often, they face drug charges or charges of assaulting an officer . mentally ill people become more paranoid, delusional, and less likely to follow dir .\"}]"
            ]
          },
          "metadata": {},
          "execution_count": 92
        }
      ]
    },
    {
      "cell_type": "code",
      "source": [
        "pipe_out2[0]['summary_text']"
      ],
      "metadata": {
        "colab": {
          "base_uri": "https://localhost:8080/",
          "height": 53
        },
        "id": "wnEPYN4UWYkF",
        "outputId": "22a03b47-34a9-4e07-9a6c-014147001165"
      },
      "execution_count": 93,
      "outputs": [
        {
          "output_type": "execute_result",
          "data": {
            "text/plain": [
              "\"inmates with the most severe mental illnesses are incarcerated until they're ready to appear in court . most often, they face drug charges or charges of assaulting an officer . mentally ill people become more paranoid, delusional, and less likely to follow dir .\""
            ],
            "application/vnd.google.colaboratory.intrinsic+json": {
              "type": "string"
            }
          },
          "metadata": {},
          "execution_count": 93
        }
      ]
    },
    {
      "cell_type": "code",
      "source": [
        "summaries['t5']='n'.join(sent_tokenize(pipe_out2[0]['summary_text']))"
      ],
      "metadata": {
        "id": "V2Dcl__XWYmm"
      },
      "execution_count": 94,
      "outputs": []
    },
    {
      "cell_type": "code",
      "source": [
        "summaries['t5']"
      ],
      "metadata": {
        "colab": {
          "base_uri": "https://localhost:8080/",
          "height": 53
        },
        "id": "9wgr7MF8WYpr",
        "outputId": "29b76248-136e-4da5-d67d-5f3ad324aab8"
      },
      "execution_count": 95,
      "outputs": [
        {
          "output_type": "execute_result",
          "data": {
            "text/plain": [
              "\"inmates with the most severe mental illnesses are incarcerated until they're ready to appear in court .nmost often, they face drug charges or charges of assaulting an officer .nmentally ill people become more paranoid, delusional, and less likely to follow dir .\""
            ],
            "application/vnd.google.colaboratory.intrinsic+json": {
              "type": "string"
            }
          },
          "metadata": {},
          "execution_count": 95
        }
      ]
    },
    {
      "cell_type": "code",
      "source": [],
      "metadata": {
        "id": "ErC_DyXJYPqj"
      },
      "execution_count": 95,
      "outputs": []
    },
    {
      "cell_type": "code",
      "source": [
        "#BART\n",
        "'''\n",
        "BART, introduced by Facebook in 2019, is\n",
        "designed for both denoising autoencoder pretraining and\n",
        "sequence-to-sequence (seq2seq) downstream tasks. It can be used for tasks\n",
        "like text summarization, language generation, and translation.\n",
        "\n",
        "For downstream tasks, it is used as a seq2seq model with a\n",
        "pretrained encoder-decoder architecture.\n",
        "BART has shown effectiveness in various generative tasks, particularly\n",
        "in abstractive text summarization.\n",
        "\n",
        "BERT was introduced by Google in 2018, and its primary goal is to\n",
        "pretrain deep bidirectional representations from unlabeled text.\n",
        "It learns contextualized word representations by considering both\n",
        "the left and\n",
        "right context of each word in a sentence.\n",
        "\n",
        " BERT uses a masked language model (MLM) objective(it is like fill in the blank)\n",
        " during pretraining. It randomly masks out some words in a\n",
        " sentence, and the model is trained to predict those masked words\n",
        " based on the context of the surrounding words.\n",
        " BERT has been influential in various natural language processing (NLP)\n",
        " tasks, and fine-tuned versions of BERT have been used for tasks like\n",
        " text classification,\n",
        " named entity recognition, and question answering\n",
        "\n",
        "\n",
        "'''\n"
      ],
      "metadata": {
        "id": "RTECVYDkYPvA",
        "colab": {
          "base_uri": "https://localhost:8080/",
          "height": 105
        },
        "outputId": "cabaa9ac-4cbe-4125-9d3c-fffd9fc5f625"
      },
      "execution_count": 96,
      "outputs": [
        {
          "output_type": "execute_result",
          "data": {
            "text/plain": [
              "'\\nBART, introduced by Facebook in 2019, is\\ndesigned for both denoising autoencoder pretraining and\\nsequence-to-sequence (seq2seq) downstream tasks. It can be used for tasks\\nlike text summarization, language generation, and translation.\\n\\nFor downstream tasks, it is used as a seq2seq model with a\\npretrained encoder-decoder architecture.\\nBART has shown effectiveness in various generative tasks, particularly\\nin abstractive text summarization.\\n\\nBERT was introduced by Google in 2018, and its primary goal is to\\npretrain deep bidirectional representations from unlabeled text.\\nIt learns contextualized word representations by considering both\\nthe left and\\nright context of each word in a sentence.\\n\\n BERT uses a masked language model (MLM) objective(it is like fill in the blank)\\n during pretraining. It randomly masks out some words in a\\n sentence, and the model is trained to predict those masked words\\n based on the context of the surrounding words.\\n BERT has been influential in various natural language processing (NLP)\\n tasks, and fine-tuned versions of BERT have been used for tasks like\\n text classification,\\n named entity recognition, and question answering\\n\\n\\n'"
            ],
            "application/vnd.google.colaboratory.intrinsic+json": {
              "type": "string"
            }
          },
          "metadata": {},
          "execution_count": 96
        }
      ]
    },
    {
      "cell_type": "code",
      "source": [
        "pipe = pipeline('summarization' , model = 'facebook/bart-large-cnn')\n",
        "\n",
        "pipe_out_3 = pipe(sample_text)"
      ],
      "metadata": {
        "id": "Euzl0mZCYPx_"
      },
      "execution_count": 97,
      "outputs": []
    },
    {
      "cell_type": "code",
      "source": [
        "pipe_out_3"
      ],
      "metadata": {
        "colab": {
          "base_uri": "https://localhost:8080/"
        },
        "id": "rmO_gWiBauAa",
        "outputId": "b150dd05-bce7-4a6c-b149-6c5eb234531e"
      },
      "execution_count": 98,
      "outputs": [
        {
          "output_type": "execute_result",
          "data": {
            "text/plain": [
              "[{'summary_text': 'Miami-Dade pretrial detention facility is dubbed the \"forgotten floor\" Here, inmates with the most severe mental illnesses are incarcerated. Most often, they face drug charges or charges of assaulting an officer. Judge Steven Leifman says the arrests often result from confrontations with police.'}]"
            ]
          },
          "metadata": {},
          "execution_count": 98
        }
      ]
    },
    {
      "cell_type": "code",
      "source": [
        "summaries['bart'] = '\\n'.join(sent_tokenize(pipe_out_3[0]['summary_text']))"
      ],
      "metadata": {
        "id": "fW6g3YQuYP0s"
      },
      "execution_count": 99,
      "outputs": []
    },
    {
      "cell_type": "code",
      "source": [
        "type(summaries['bart'])"
      ],
      "metadata": {
        "colab": {
          "base_uri": "https://localhost:8080/"
        },
        "id": "0PYFB4ANa3vV",
        "outputId": "aab03301-8310-4f78-c6b4-810a6e795bcb"
      },
      "execution_count": 100,
      "outputs": [
        {
          "output_type": "execute_result",
          "data": {
            "text/plain": [
              "str"
            ]
          },
          "metadata": {},
          "execution_count": 100
        }
      ]
    },
    {
      "cell_type": "code",
      "source": [
        "#PEGASUS\n",
        "'''\n",
        "PEGASUS is a model in natural language processing (NLP)\n",
        "developed by Google. It is specifically designed for abstractive\n",
        "text summarization, which involves generating a concise and coherent\n",
        "summary of a given input document. PEGASUS was introduced in the paper\n",
        "titled \"PEGASUS: Pre-training with Extracted Gap-sentences for\n",
        "Abstractive Summarization,\" presented at NeurIPS 2019.\n",
        "The model has demonstrated strong performance on various\n",
        "summarization benchmarks and has been used for tasks such as\n",
        "news article\n",
        "summarization and document summarization.\n",
        "The primary application of PEGASUS is abstractive summarization,\n",
        "where the model generates a summary that may not be a verbatim extract\n",
        "from the input document but captures its essential meaning. This is in\n",
        "contrast to extractive summarization, which selects and combines\n",
        "existing sentences from the document\n",
        "\n",
        "The  main advantage of pegasus is that it deals with misiing sentences with self supervision\n",
        "\n",
        "'''"
      ],
      "metadata": {
        "id": "atjn2waXbBNc",
        "colab": {
          "base_uri": "https://localhost:8080/",
          "height": 88
        },
        "outputId": "1e4d959e-1a80-4ca6-ed5c-397cfd9a905b"
      },
      "execution_count": 101,
      "outputs": [
        {
          "output_type": "execute_result",
          "data": {
            "text/plain": [
              "'\\nPEGASUS is a model in natural language processing (NLP)\\ndeveloped by Google. It is specifically designed for abstractive\\ntext summarization, which involves generating a concise and coherent\\nsummary of a given input document. PEGASUS was introduced in the paper\\ntitled \"PEGASUS: Pre-training with Extracted Gap-sentences for\\nAbstractive Summarization,\" presented at NeurIPS 2019.\\nThe model has demonstrated strong performance on various\\nsummarization benchmarks and has been used for tasks such as\\nnews article\\nsummarization and document summarization.\\nThe primary application of PEGASUS is abstractive summarization,\\nwhere the model generates a summary that may not be a verbatim extract\\nfrom the input document but captures its essential meaning. This is in\\ncontrast to extractive summarization, which selects and combines\\nexisting sentences from the document\\n\\nThe  main advantage of pegasus is that it deals with misiing sentences with self supervision\\n\\n'"
            ],
            "application/vnd.google.colaboratory.intrinsic+json": {
              "type": "string"
            }
          },
          "metadata": {},
          "execution_count": 101
        }
      ]
    },
    {
      "cell_type": "code",
      "source": [
        "pipe = pipeline('summarization' , model =\"google/pegasus-cnn_dailymail\" )\n",
        "pipe_out_4 = pipe(sample_text)"
      ],
      "metadata": {
        "colab": {
          "base_uri": "https://localhost:8080/"
        },
        "id": "v2qzTbfAbEPq",
        "outputId": "347e304a-3b47-4b5d-fac7-594bf3e3aef3"
      },
      "execution_count": 102,
      "outputs": [
        {
          "output_type": "stream",
          "name": "stderr",
          "text": [
            "Some weights of PegasusForConditionalGeneration were not initialized from the model checkpoint at google/pegasus-cnn_dailymail and are newly initialized: ['model.decoder.embed_positions.weight', 'model.encoder.embed_positions.weight']\n",
            "You should probably TRAIN this model on a down-stream task to be able to use it for predictions and inference.\n"
          ]
        }
      ]
    },
    {
      "cell_type": "code",
      "source": [
        "pipe_out_4"
      ],
      "metadata": {
        "id": "y2aKVDW4bESj",
        "colab": {
          "base_uri": "https://localhost:8080/"
        },
        "outputId": "c246ad85-5182-4be2-9ff6-acb563f7b1c3"
      },
      "execution_count": 103,
      "outputs": [
        {
          "output_type": "execute_result",
          "data": {
            "text/plain": [
              "[{'summary_text': 'Mentally ill inmates are housed on the \"forgotten floor\" of a Miami jail .<n>Judge Steven Leifman says the charges are usually \"avoidable felonies\"<n>He says the arrests often result from confrontations with police .<n>Mentally ill people often won\\'t do what they\\'re told when police arrive on the scene .'}]"
            ]
          },
          "metadata": {},
          "execution_count": 103
        }
      ]
    },
    {
      "cell_type": "code",
      "source": [
        "summaries['pegasus'] = \"\\n\".join(sent_tokenize(pipe_out_4[0]['summary_text']))"
      ],
      "metadata": {
        "id": "yItDqT0CbEU1"
      },
      "execution_count": 104,
      "outputs": []
    },
    {
      "cell_type": "code",
      "source": [
        "summaries['pegasus']=summaries['pegasus'].replace(\" .<n>\",'\\n')"
      ],
      "metadata": {
        "id": "gOwlTC4_ktR5"
      },
      "execution_count": 107,
      "outputs": []
    },
    {
      "cell_type": "code",
      "source": [
        "type(summaries['pegasus'])"
      ],
      "metadata": {
        "id": "LoYI5IMyslBX",
        "outputId": "237e3c0a-2cbb-451d-e72e-526bd3e81020",
        "colab": {
          "base_uri": "https://localhost:8080/"
        }
      },
      "execution_count": 108,
      "outputs": [
        {
          "output_type": "execute_result",
          "data": {
            "text/plain": [
              "str"
            ]
          },
          "metadata": {},
          "execution_count": 108
        }
      ]
    },
    {
      "cell_type": "code",
      "source": [
        "#checking evaluation metric Sacrebleu\n",
        "\n",
        "\n",
        "from datasets import load_metric\n",
        "\n",
        "bleu_metric = load_metric('sacrebleu')"
      ],
      "metadata": {
        "colab": {
          "base_uri": "https://localhost:8080/"
        },
        "id": "-Hud0AFektUe",
        "outputId": "2ca3506d-cbde-4adc-f38a-90728bd74ffd"
      },
      "execution_count": 109,
      "outputs": [
        {
          "output_type": "stream",
          "name": "stderr",
          "text": [
            "/usr/local/lib/python3.10/dist-packages/datasets/load.py:752: FutureWarning: The repository for sacrebleu contains custom code which must be executed to correctly load the metric. You can inspect the repository content at https://raw.githubusercontent.com/huggingface/datasets/2.16.0/metrics/sacrebleu/sacrebleu.py\n",
            "You can avoid this message in future by passing the argument `trust_remote_code=True`.\n",
            "Passing `trust_remote_code=True` will be mandatory to load this metric from the next major release of `datasets`.\n",
            "  warnings.warn(\n"
          ]
        }
      ]
    },
    {
      "cell_type": "code",
      "source": [
        "bleu_metric.add (prediction =[summaries[\"pegasus\"]], reference = [dataset['train'][1]['highlights'] ])\n",
        "\n",
        "results = bleu_metric.compute(smooth_method = 'floor',smooth_value = 0)\n",
        "results['precision'] = [np.round(p,2) for p in results['precisions']]\n",
        "pd.DataFrame.from_dict(results,orient = 'index' , columns = ['value'])\n",
        "\n"
      ],
      "metadata": {
        "colab": {
          "base_uri": "https://localhost:8080/",
          "height": 300
        },
        "id": "AtjMdbQektek",
        "outputId": "4375cde5-7332-4b71-8d45-4814e239e635"
      },
      "execution_count": 110,
      "outputs": [
        {
          "output_type": "execute_result",
          "data": {
            "text/plain": [
              "                                                        value\n",
              "score                                               19.328777\n",
              "counts                                        [27, 14, 10, 6]\n",
              "totals                                       [65, 64, 63, 62]\n",
              "precisions  [41.53846153846154, 21.875, 15.873015873015873...\n",
              "bp                                                        1.0\n",
              "sys_len                                                    65\n",
              "ref_len                                                    57\n",
              "precision                         [41.54, 21.88, 15.87, 9.68]"
            ],
            "text/html": [
              "\n",
              "  <div id=\"df-cd2aa775-6e4a-44aa-b819-507d587f6b8c\" class=\"colab-df-container\">\n",
              "    <div>\n",
              "<style scoped>\n",
              "    .dataframe tbody tr th:only-of-type {\n",
              "        vertical-align: middle;\n",
              "    }\n",
              "\n",
              "    .dataframe tbody tr th {\n",
              "        vertical-align: top;\n",
              "    }\n",
              "\n",
              "    .dataframe thead th {\n",
              "        text-align: right;\n",
              "    }\n",
              "</style>\n",
              "<table border=\"1\" class=\"dataframe\">\n",
              "  <thead>\n",
              "    <tr style=\"text-align: right;\">\n",
              "      <th></th>\n",
              "      <th>value</th>\n",
              "    </tr>\n",
              "  </thead>\n",
              "  <tbody>\n",
              "    <tr>\n",
              "      <th>score</th>\n",
              "      <td>19.328777</td>\n",
              "    </tr>\n",
              "    <tr>\n",
              "      <th>counts</th>\n",
              "      <td>[27, 14, 10, 6]</td>\n",
              "    </tr>\n",
              "    <tr>\n",
              "      <th>totals</th>\n",
              "      <td>[65, 64, 63, 62]</td>\n",
              "    </tr>\n",
              "    <tr>\n",
              "      <th>precisions</th>\n",
              "      <td>[41.53846153846154, 21.875, 15.873015873015873...</td>\n",
              "    </tr>\n",
              "    <tr>\n",
              "      <th>bp</th>\n",
              "      <td>1.0</td>\n",
              "    </tr>\n",
              "    <tr>\n",
              "      <th>sys_len</th>\n",
              "      <td>65</td>\n",
              "    </tr>\n",
              "    <tr>\n",
              "      <th>ref_len</th>\n",
              "      <td>57</td>\n",
              "    </tr>\n",
              "    <tr>\n",
              "      <th>precision</th>\n",
              "      <td>[41.54, 21.88, 15.87, 9.68]</td>\n",
              "    </tr>\n",
              "  </tbody>\n",
              "</table>\n",
              "</div>\n",
              "    <div class=\"colab-df-buttons\">\n",
              "\n",
              "  <div class=\"colab-df-container\">\n",
              "    <button class=\"colab-df-convert\" onclick=\"convertToInteractive('df-cd2aa775-6e4a-44aa-b819-507d587f6b8c')\"\n",
              "            title=\"Convert this dataframe to an interactive table.\"\n",
              "            style=\"display:none;\">\n",
              "\n",
              "  <svg xmlns=\"http://www.w3.org/2000/svg\" height=\"24px\" viewBox=\"0 -960 960 960\">\n",
              "    <path d=\"M120-120v-720h720v720H120Zm60-500h600v-160H180v160Zm220 220h160v-160H400v160Zm0 220h160v-160H400v160ZM180-400h160v-160H180v160Zm440 0h160v-160H620v160ZM180-180h160v-160H180v160Zm440 0h160v-160H620v160Z\"/>\n",
              "  </svg>\n",
              "    </button>\n",
              "\n",
              "  <style>\n",
              "    .colab-df-container {\n",
              "      display:flex;\n",
              "      gap: 12px;\n",
              "    }\n",
              "\n",
              "    .colab-df-convert {\n",
              "      background-color: #E8F0FE;\n",
              "      border: none;\n",
              "      border-radius: 50%;\n",
              "      cursor: pointer;\n",
              "      display: none;\n",
              "      fill: #1967D2;\n",
              "      height: 32px;\n",
              "      padding: 0 0 0 0;\n",
              "      width: 32px;\n",
              "    }\n",
              "\n",
              "    .colab-df-convert:hover {\n",
              "      background-color: #E2EBFA;\n",
              "      box-shadow: 0px 1px 2px rgba(60, 64, 67, 0.3), 0px 1px 3px 1px rgba(60, 64, 67, 0.15);\n",
              "      fill: #174EA6;\n",
              "    }\n",
              "\n",
              "    .colab-df-buttons div {\n",
              "      margin-bottom: 4px;\n",
              "    }\n",
              "\n",
              "    [theme=dark] .colab-df-convert {\n",
              "      background-color: #3B4455;\n",
              "      fill: #D2E3FC;\n",
              "    }\n",
              "\n",
              "    [theme=dark] .colab-df-convert:hover {\n",
              "      background-color: #434B5C;\n",
              "      box-shadow: 0px 1px 3px 1px rgba(0, 0, 0, 0.15);\n",
              "      filter: drop-shadow(0px 1px 2px rgba(0, 0, 0, 0.3));\n",
              "      fill: #FFFFFF;\n",
              "    }\n",
              "  </style>\n",
              "\n",
              "    <script>\n",
              "      const buttonEl =\n",
              "        document.querySelector('#df-cd2aa775-6e4a-44aa-b819-507d587f6b8c button.colab-df-convert');\n",
              "      buttonEl.style.display =\n",
              "        google.colab.kernel.accessAllowed ? 'block' : 'none';\n",
              "\n",
              "      async function convertToInteractive(key) {\n",
              "        const element = document.querySelector('#df-cd2aa775-6e4a-44aa-b819-507d587f6b8c');\n",
              "        const dataTable =\n",
              "          await google.colab.kernel.invokeFunction('convertToInteractive',\n",
              "                                                    [key], {});\n",
              "        if (!dataTable) return;\n",
              "\n",
              "        const docLinkHtml = 'Like what you see? Visit the ' +\n",
              "          '<a target=\"_blank\" href=https://colab.research.google.com/notebooks/data_table.ipynb>data table notebook</a>'\n",
              "          + ' to learn more about interactive tables.';\n",
              "        element.innerHTML = '';\n",
              "        dataTable['output_type'] = 'display_data';\n",
              "        await google.colab.output.renderOutput(dataTable, element);\n",
              "        const docLink = document.createElement('div');\n",
              "        docLink.innerHTML = docLinkHtml;\n",
              "        element.appendChild(docLink);\n",
              "      }\n",
              "    </script>\n",
              "  </div>\n",
              "\n",
              "\n",
              "<div id=\"df-e364e9de-2c6c-4a18-92a8-23c97c12516f\">\n",
              "  <button class=\"colab-df-quickchart\" onclick=\"quickchart('df-e364e9de-2c6c-4a18-92a8-23c97c12516f')\"\n",
              "            title=\"Suggest charts\"\n",
              "            style=\"display:none;\">\n",
              "\n",
              "<svg xmlns=\"http://www.w3.org/2000/svg\" height=\"24px\"viewBox=\"0 0 24 24\"\n",
              "     width=\"24px\">\n",
              "    <g>\n",
              "        <path d=\"M19 3H5c-1.1 0-2 .9-2 2v14c0 1.1.9 2 2 2h14c1.1 0 2-.9 2-2V5c0-1.1-.9-2-2-2zM9 17H7v-7h2v7zm4 0h-2V7h2v10zm4 0h-2v-4h2v4z\"/>\n",
              "    </g>\n",
              "</svg>\n",
              "  </button>\n",
              "\n",
              "<style>\n",
              "  .colab-df-quickchart {\n",
              "      --bg-color: #E8F0FE;\n",
              "      --fill-color: #1967D2;\n",
              "      --hover-bg-color: #E2EBFA;\n",
              "      --hover-fill-color: #174EA6;\n",
              "      --disabled-fill-color: #AAA;\n",
              "      --disabled-bg-color: #DDD;\n",
              "  }\n",
              "\n",
              "  [theme=dark] .colab-df-quickchart {\n",
              "      --bg-color: #3B4455;\n",
              "      --fill-color: #D2E3FC;\n",
              "      --hover-bg-color: #434B5C;\n",
              "      --hover-fill-color: #FFFFFF;\n",
              "      --disabled-bg-color: #3B4455;\n",
              "      --disabled-fill-color: #666;\n",
              "  }\n",
              "\n",
              "  .colab-df-quickchart {\n",
              "    background-color: var(--bg-color);\n",
              "    border: none;\n",
              "    border-radius: 50%;\n",
              "    cursor: pointer;\n",
              "    display: none;\n",
              "    fill: var(--fill-color);\n",
              "    height: 32px;\n",
              "    padding: 0;\n",
              "    width: 32px;\n",
              "  }\n",
              "\n",
              "  .colab-df-quickchart:hover {\n",
              "    background-color: var(--hover-bg-color);\n",
              "    box-shadow: 0 1px 2px rgba(60, 64, 67, 0.3), 0 1px 3px 1px rgba(60, 64, 67, 0.15);\n",
              "    fill: var(--button-hover-fill-color);\n",
              "  }\n",
              "\n",
              "  .colab-df-quickchart-complete:disabled,\n",
              "  .colab-df-quickchart-complete:disabled:hover {\n",
              "    background-color: var(--disabled-bg-color);\n",
              "    fill: var(--disabled-fill-color);\n",
              "    box-shadow: none;\n",
              "  }\n",
              "\n",
              "  .colab-df-spinner {\n",
              "    border: 2px solid var(--fill-color);\n",
              "    border-color: transparent;\n",
              "    border-bottom-color: var(--fill-color);\n",
              "    animation:\n",
              "      spin 1s steps(1) infinite;\n",
              "  }\n",
              "\n",
              "  @keyframes spin {\n",
              "    0% {\n",
              "      border-color: transparent;\n",
              "      border-bottom-color: var(--fill-color);\n",
              "      border-left-color: var(--fill-color);\n",
              "    }\n",
              "    20% {\n",
              "      border-color: transparent;\n",
              "      border-left-color: var(--fill-color);\n",
              "      border-top-color: var(--fill-color);\n",
              "    }\n",
              "    30% {\n",
              "      border-color: transparent;\n",
              "      border-left-color: var(--fill-color);\n",
              "      border-top-color: var(--fill-color);\n",
              "      border-right-color: var(--fill-color);\n",
              "    }\n",
              "    40% {\n",
              "      border-color: transparent;\n",
              "      border-right-color: var(--fill-color);\n",
              "      border-top-color: var(--fill-color);\n",
              "    }\n",
              "    60% {\n",
              "      border-color: transparent;\n",
              "      border-right-color: var(--fill-color);\n",
              "    }\n",
              "    80% {\n",
              "      border-color: transparent;\n",
              "      border-right-color: var(--fill-color);\n",
              "      border-bottom-color: var(--fill-color);\n",
              "    }\n",
              "    90% {\n",
              "      border-color: transparent;\n",
              "      border-bottom-color: var(--fill-color);\n",
              "    }\n",
              "  }\n",
              "</style>\n",
              "\n",
              "  <script>\n",
              "    async function quickchart(key) {\n",
              "      const quickchartButtonEl =\n",
              "        document.querySelector('#' + key + ' button');\n",
              "      quickchartButtonEl.disabled = true;  // To prevent multiple clicks.\n",
              "      quickchartButtonEl.classList.add('colab-df-spinner');\n",
              "      try {\n",
              "        const charts = await google.colab.kernel.invokeFunction(\n",
              "            'suggestCharts', [key], {});\n",
              "      } catch (error) {\n",
              "        console.error('Error during call to suggestCharts:', error);\n",
              "      }\n",
              "      quickchartButtonEl.classList.remove('colab-df-spinner');\n",
              "      quickchartButtonEl.classList.add('colab-df-quickchart-complete');\n",
              "    }\n",
              "    (() => {\n",
              "      let quickchartButtonEl =\n",
              "        document.querySelector('#df-e364e9de-2c6c-4a18-92a8-23c97c12516f button');\n",
              "      quickchartButtonEl.style.display =\n",
              "        google.colab.kernel.accessAllowed ? 'block' : 'none';\n",
              "    })();\n",
              "  </script>\n",
              "</div>\n",
              "\n",
              "    </div>\n",
              "  </div>\n"
            ]
          },
          "metadata": {},
          "execution_count": 110
        }
      ]
    },
    {
      "cell_type": "code",
      "source": [
        "#rouge"
      ],
      "metadata": {
        "id": "F3juJWnwu5qc"
      },
      "execution_count": 111,
      "outputs": []
    },
    {
      "cell_type": "code",
      "source": [
        "# why we need rouge over bleu?\n",
        "\n",
        "'''\n",
        "\n",
        "ROUGE (Recall-Oriented Understudy for Gisting Evaluation)\n",
        "and BLEU (Bilingual Evaluation Understudy) are both evaluation\n",
        "metrics used in natural language processing tasks, particularly in the\n",
        "context of text summarization and machine translation. However, they have\n",
        "different focuses and capture different\n",
        "aspects of the quality of generated text.\n",
        "\n",
        "ROUGE: ROUGE is recall-oriented, which means it places more emphasis\n",
        "on the overlap of content between the reference (ground truth) and the\n",
        "generated text. It is designed to measure how well the\n",
        "generated text covers the information present in the reference.\n",
        "\n",
        "BLEU: BLEU, on the other hand, is precision-oriented.\n",
        "It primarily measures how many of the generated n-grams (word sequences)\n",
        "match those in the reference. While precision is essential,\n",
        "it may not be sufficient for tasks where recall is crucial.\n",
        "\n",
        "'''\n"
      ],
      "metadata": {
        "id": "iayo-Xxpu7oS",
        "outputId": "2840022b-591b-4cb3-8afa-0d337c1f0915",
        "colab": {
          "base_uri": "https://localhost:8080/",
          "height": 88
        }
      },
      "execution_count": 112,
      "outputs": [
        {
          "output_type": "execute_result",
          "data": {
            "text/plain": [
              "'\\n\\nROUGE (Recall-Oriented Understudy for Gisting Evaluation) \\nand BLEU (Bilingual Evaluation Understudy) are both evaluation \\nmetrics used in natural language processing tasks, particularly in the \\ncontext of text summarization and machine translation. However, they have \\ndifferent focuses and capture different \\naspects of the quality of generated text.\\n\\nROUGE: ROUGE is recall-oriented, which means it places more emphasis \\non the overlap of content between the reference (ground truth) and the \\ngenerated text. It is designed to measure how well the \\ngenerated text covers the information present in the reference.\\n\\nBLEU: BLEU, on the other hand, is precision-oriented. \\nIt primarily measures how many of the generated n-grams (word sequences) \\nmatch those in the reference. While precision is essential, \\nit may not be sufficient for tasks where recall is crucial.\\n\\n'"
            ],
            "application/vnd.google.colaboratory.intrinsic+json": {
              "type": "string"
            }
          },
          "metadata": {},
          "execution_count": 112
        }
      ]
    },
    {
      "cell_type": "code",
      "source": [
        "#load rouge metric from hugging face\n",
        "\n",
        "\n",
        "!pip install rouge_score"
      ],
      "metadata": {
        "id": "odGeNRu7voGE",
        "outputId": "5bf9399b-a057-4b0e-e911-6671af0c0ad3",
        "colab": {
          "base_uri": "https://localhost:8080/"
        }
      },
      "execution_count": 113,
      "outputs": [
        {
          "output_type": "stream",
          "name": "stdout",
          "text": [
            "Requirement already satisfied: rouge_score in /usr/local/lib/python3.10/dist-packages (0.1.2)\n",
            "Requirement already satisfied: absl-py in /usr/local/lib/python3.10/dist-packages (from rouge_score) (1.4.0)\n",
            "Requirement already satisfied: nltk in /usr/local/lib/python3.10/dist-packages (from rouge_score) (3.8.1)\n",
            "Requirement already satisfied: numpy in /usr/local/lib/python3.10/dist-packages (from rouge_score) (1.23.5)\n",
            "Requirement already satisfied: six>=1.14.0 in /usr/local/lib/python3.10/dist-packages (from rouge_score) (1.16.0)\n",
            "Requirement already satisfied: click in /usr/local/lib/python3.10/dist-packages (from nltk->rouge_score) (8.1.7)\n",
            "Requirement already satisfied: joblib in /usr/local/lib/python3.10/dist-packages (from nltk->rouge_score) (1.3.2)\n",
            "Requirement already satisfied: regex>=2021.8.3 in /usr/local/lib/python3.10/dist-packages (from nltk->rouge_score) (2023.6.3)\n",
            "Requirement already satisfied: tqdm in /usr/local/lib/python3.10/dist-packages (from nltk->rouge_score) (4.66.1)\n"
          ]
        }
      ]
    },
    {
      "cell_type": "code",
      "source": [
        "from datasets import load_metric\n",
        "\n",
        "rouge_metric = load_metric(\"rouge\")\n",
        "\n",
        "\n",
        "# plz google to know about ROUHE-N and ROUGE-L"
      ],
      "metadata": {
        "id": "GBK9cjhFvz34",
        "outputId": "8d4165f4-c0f0-495e-f7a5-36d3c36bdd64",
        "colab": {
          "base_uri": "https://localhost:8080/"
        }
      },
      "execution_count": 114,
      "outputs": [
        {
          "output_type": "stream",
          "name": "stderr",
          "text": [
            "/usr/local/lib/python3.10/dist-packages/datasets/load.py:752: FutureWarning: The repository for rouge contains custom code which must be executed to correctly load the metric. You can inspect the repository content at https://raw.githubusercontent.com/huggingface/datasets/2.16.0/metrics/rouge/rouge.py\n",
            "You can avoid this message in future by passing the argument `trust_remote_code=True`.\n",
            "Passing `trust_remote_code=True` will be mandatory to load this metric from the next major release of `datasets`.\n",
            "  warnings.warn(\n"
          ]
        }
      ]
    },
    {
      "cell_type": "code",
      "source": [
        "from datasets import load_metric\n",
        "import pandas as pd\n",
        "\n",
        "# Load the ROUGE metric\n",
        "rouge_metric = load_metric(\"rouge\")\n",
        "\n",
        "rouge_names = [\"rouge1\", \"rouge2\", \"rougeL\", \"rougeLsum\"]\n",
        "\n",
        "reference = dataset['train'][1]['highlights']\n",
        "#summaries = {'model1': 'Generated summary 1', 'model2': 'Generated summary 2'}  # Replace with your actual summaries\n",
        "\n",
        "records = []\n",
        "\n",
        "for model_name, hypothesis in summaries.items():\n",
        "    rouge_metric.add(prediction=hypothesis, reference=reference)\n",
        "    score = rouge_metric.compute()\n",
        "    rouge_dict = {rn: score[rn].mid.fmeasure for rn in rouge_names}\n",
        "    records.append(rouge_dict)\n",
        "\n",
        "df_results = pd.DataFrame.from_records(records, index=summaries.keys())\n",
        "print(df_results)\n"
      ],
      "metadata": {
        "id": "DLGlsLH1wsiZ",
        "outputId": "cc460110-7ee3-403e-f4c3-918669f39566",
        "colab": {
          "base_uri": "https://localhost:8080/"
        }
      },
      "execution_count": 115,
      "outputs": [
        {
          "output_type": "stream",
          "name": "stderr",
          "text": [
            "/usr/local/lib/python3.10/dist-packages/datasets/load.py:752: FutureWarning: The repository for rouge contains custom code which must be executed to correctly load the metric. You can inspect the repository content at https://raw.githubusercontent.com/huggingface/datasets/2.16.0/metrics/rouge/rouge.py\n",
            "You can avoid this message in future by passing the argument `trust_remote_code=True`.\n",
            "Passing `trust_remote_code=True` will be mandatory to load this metric from the next major release of `datasets`.\n",
            "  warnings.warn(\n"
          ]
        },
        {
          "output_type": "stream",
          "name": "stdout",
          "text": [
            "            rouge1    rouge2    rougeL  rougeLsum\n",
            "baseline  0.312796  0.133971  0.170616   0.284360\n",
            "gpt2      0.140127  0.019231  0.082803   0.133758\n",
            "t5        0.175824  0.000000  0.131868   0.153846\n",
            "bart      0.365591  0.131868  0.215054   0.322581\n",
            "pegasus   0.500000  0.244898  0.360000   0.460000\n"
          ]
        }
      ]
    },
    {
      "cell_type": "code",
      "source": [
        "#evaluation on the test set"
      ],
      "metadata": {
        "id": "1zhPjhh6wsma"
      },
      "execution_count": 115,
      "outputs": []
    },
    {
      "cell_type": "code",
      "source": [],
      "metadata": {
        "id": "kDel5NqIws3O"
      },
      "execution_count": 115,
      "outputs": []
    }
  ]
}